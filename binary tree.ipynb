{
 "cells": [
  {
   "cell_type": "markdown",
   "metadata": {},
   "source": [
    "### Practice Node"
   ]
  },
  {
   "cell_type": "code",
   "execution_count": 1,
   "metadata": {},
   "outputs": [
    {
     "name": "stdout",
     "output_type": "stream",
     "text": [
      "10\n"
     ]
    }
   ],
   "source": [
    "class Node:\n",
    "    \n",
    "    def __init__(self, data):\n",
    "        \n",
    "        self.right = None\n",
    "        self.left = None\n",
    "        self.data = data\n",
    "        \n",
    "    def PrintTree(self):\n",
    "        print(self.data)\n",
    "        \n",
    "\n",
    "root = Node(10)\n",
    "\n",
    "root.PrintTree()\n",
    "        "
   ]
  },
  {
   "cell_type": "code",
   "execution_count": null,
   "metadata": {},
   "outputs": [],
   "source": [
    "class Node:\n",
    "\n",
    "    def __init__(self, element, parent = None, left = None, right = None):\n",
    "        \n",
    "        self.root = None\n",
    "        self.size = 0\n",
    "        self.element = element\n",
    "        self.parent = parent\n",
    "        self.left = left\n",
    "        self.right = right\n",
    "           \n",
    "    def addLeft(self, p, e):\n",
    "        \n",
    "        if node.left is not None: raise ValueError (\"left child exists\")\n",
    "            self.size += 1\n",
    "            node.left = self.Node(e,node)\n",
    "                        \n",
    "    def addRight(self, p, e):\n",
    "        \n",
    "        if node.right is not None: raise ValueError (\"right child exists\")\n",
    "                    self.size += 1\n",
    "                    node.right = self.Node(e,node)\n"
   ]
  }
 ],
 "metadata": {
  "kernelspec": {
   "display_name": "Python 3",
   "language": "python",
   "name": "python3"
  },
  "language_info": {
   "codemirror_mode": {
    "name": "ipython",
    "version": 3
   },
   "file_extension": ".py",
   "mimetype": "text/x-python",
   "name": "python",
   "nbconvert_exporter": "python",
   "pygments_lexer": "ipython3",
   "version": "3.6.9"
  }
 },
 "nbformat": 4,
 "nbformat_minor": 2
}
