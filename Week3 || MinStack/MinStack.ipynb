{
 "cells": [
  {
   "cell_type": "code",
   "execution_count": 1,
   "metadata": {},
   "outputs": [],
   "source": [
    "class Node:\n",
    "\n",
    "    def __init__(self, val, nextNode=None):\n",
    "        \"\"\"\n",
    "        initialize your data structure here.\n",
    "        \"\"\"\n",
    "        self.val = val #val是一個值\n",
    "        self.temp_min = val #暫時最小值\n",
    "        self.next = nextNode #下一個值"
   ]
  },
  {
   "cell_type": "code",
   "execution_count": 2,
   "metadata": {},
   "outputs": [],
   "source": [
    "class MinStack:\n",
    "    \n",
    "    def __init__(self):\n",
    "        \n",
    "        self.topNode = None #容器中沒有數值的存在\n",
    "\n",
    "    def push(self, x: int) -> None:\n",
    "        \n",
    "        if self.topNode is None:\n",
    "            self.topNode = Node(x, None) #如果沒有第一個值的話，加進一個Node\n",
    "        else:\n",
    "            temp = self.topNode.temp_min  #最上面的最小值成為temp\n",
    "            self.topNode = Node(x, self.topNode) #加進一個Node成為最上面的數值\n",
    "            if temp < self.topNode.val:\n",
    "                self.topNode.temp_min = temp    #如果加進來的數值沒有比原來的最小值小，那麼最小值依舊是temp\n",
    "\n",
    "            \n",
    "    def pop(self) -> None:\n",
    "        \n",
    "        if top.Node is None:\n",
    "            return None\n",
    "        data = self.topNode\n",
    "        self.topNode = self.topNode.next\n",
    "        \n",
    "        return data\n",
    "\n",
    "    def top(self) -> int:\n",
    "        \n",
    "        return self.topNode.val\n",
    "        \n",
    "\n",
    "    def getMin(self) -> int:\n",
    "        \n",
    "        return self.topNode.temp_min"
   ]
  },
  {
   "cell_type": "code",
   "execution_count": null,
   "metadata": {},
   "outputs": [],
   "source": []
  }
 ],
 "metadata": {
  "kernelspec": {
   "display_name": "Python 3",
   "language": "python",
   "name": "python3"
  },
  "language_info": {
   "codemirror_mode": {
    "name": "ipython",
    "version": 3
   },
   "file_extension": ".py",
   "mimetype": "text/x-python",
   "name": "python",
   "nbconvert_exporter": "python",
   "pygments_lexer": "ipython3",
   "version": "3.6.4"
  }
 },
 "nbformat": 4,
 "nbformat_minor": 2
}
