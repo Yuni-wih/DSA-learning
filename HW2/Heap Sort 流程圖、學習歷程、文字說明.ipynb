{
 "cells": [
  {
   "cell_type": "markdown",
   "metadata": {},
   "source": [
    "# Heap Sort (堆排序）\n",
    "\n",
    "## ＊ 將輸入進去的數值變成一棵binary tree，會有parent/kid，將最大的往index(0)放，再加以排列。\n",
    "\n",
    "> 個人認為這個有點深奧難懂，一開始要做的是`maxHeapify`，將array中最大的值放在根部`root`，分成子節點左邊和右邊，將兩方個與父節點比較，大的一方與父節點`交換`，再次呼叫自己，繼續往下走（只有一部分的binarytree)。  \n",
    "> 但是`maxHeapify`只是一個函數，其實堆排序是由下往上去跑迴圈，所以應該會有一個`buildmaxheap`，目的是在於將數列由大到小排列（每個父節點都要比子節點要來得大）（此步驟是將每個分支都比大小）。  \n",
    "> 最後重要的heapsort，因為最大的數值會在`index(0)`的位置，但是最後出來的數列是由小排到大，所以要將`index(0)` 和`index(end)`交換，同時迴圈會減1，下一步就不會包含最後一個元素，因為它已經排列好，但是這樣一來`index(0)`就不會是數列中最大的數值，違反了`MaxHeap`，所以在呼叫一次`maxHeapify`，重新排列成根部是最大數值。  \n",
    "\n",
    "🔗[Comparison Sort: Heap Sort(堆積排序法)](http://alrightchiu.github.io/SecondRound/comparison-sort-heap-sortdui-ji-pai-xu-fa.html)  \n",
    "🔗[problemsolving](https://github.com/minsuk-heo/problemsolving/blob/master/sort/HeapSort.py)"
   ]
  },
  {
   "cell_type": "code",
   "execution_count": 5,
   "metadata": {},
   "outputs": [],
   "source": [
    "class Solution(object):\n",
    "        \n",
    "        def heap_sort(self,nums):\n",
    "            n = len (nums)    # n 是 nums數列長度\n",
    "            parent = (n//2)-1  #最後一個父節點\n",
    "\n",
    "            while parent >=0:  #當父節點>=0時，繼續執行\n",
    "                self.heapify(nums,parent,n)  #呼叫Solution中的heapify函數，將所有父節點>子節點\n",
    "                parent-=1  #parent會減少，因為要從最下面的節點開始篩選，一一往上\n",
    "\n",
    "            end = len(nums)-1  #設end是數列長度減1，因為python的數列是從0開始，所以結束的位置是len(nums)-1\n",
    "\n",
    "            while (end > 0):  #當end大於0時，下一步\n",
    "                nums[end] , nums[0] = nums[0] , nums[end]  #此時因為上方已經呼叫了heapify函數，所以index(0)會是最大的值，跟最後一個元素的值交換\n",
    "                self.heapify(nums, 0, end) #此步驟是因為上一步的交換使得index(0)不是數列中最大的值，所以再次呼叫heapify函數\n",
    "                end -= 1  #每一次的迴圈中會把最大的值往最後一個元素放，所以下一次跑迴圈時，不可包含最後面已經交換完成的元素，因為它們已排列好\n",
    "                \n",
    "            return nums #回傳nums\n",
    "\n",
    "        def heapify(self,nums, i, n):  #這個函數是為了讓heapsort呼叫而設的\n",
    "\n",
    "            daddy = i\n",
    "            leftkid = 2*i+1\n",
    "            rightkid = 2*i+2  #爸爸、左邊小孩、右邊小孩，爸爸>左邊小孩、右邊小孩\n",
    "\n",
    "            if leftkid < n and nums[daddy] < nums[leftkid]:\n",
    "                daddy = leftkid\n",
    "            if rightkid < n and nums[daddy] < nums[rightkid]:\n",
    "                daddy = rightkid\n",
    "            if daddy != i:\n",
    "                nums [i] ,nums[daddy] = nums[daddy] , nums[i]\n",
    "                self.heapify(nums,daddy,n)\n",
    "            #上面三行if就是爸爸和兒子們的數值比較，三者最大的index位置將成為爸爸的去處，前提是孩子們都不得大於數列的長度，因為有的孩子們並沒有開枝散葉\n",
    "            # 但當爸爸發現手裡的數值並不是原本自己的，交換數值，但是這樣不夠，因為不知道下面的孩子們會不會有可以把自己打趴的，所以再次呼叫函數，往下比較"
   ]
  },
  {
   "cell_type": "code",
   "execution_count": 6,
   "metadata": {},
   "outputs": [
    {
     "data": {
      "text/plain": [
       "[1, 2, 3, 4, 5]"
      ]
     },
     "execution_count": 6,
     "metadata": {},
     "output_type": "execute_result"
    }
   ],
   "source": [
    "nums = [3,2,4,1,5]\n",
    "output = Solution().heap_sort(nums)\n",
    "output"
   ]
  },
  {
   "cell_type": "code",
   "execution_count": 3,
   "metadata": {},
   "outputs": [],
   "source": [
    "def maxheapify(array, n, i):\n",
    "    root = i\n",
    "    left = 2*i+1\n",
    "    right = 2*i+2\n",
    "    \n",
    "    if left < n and array[root] < array[left]:\n",
    "        root = left\n",
    "        \n",
    "    if right < n and array[root] <array[right]:\n",
    "        root = right\n",
    "        \n",
    "    if root != i:\n",
    "        array[i],array[root] = array[root],array[i]\n",
    "        \n",
    "        maxheapify(array, n, root)\n",
    "\n",
    "def heapsort(array):\n",
    "    n = len(array)\n",
    "    \n",
    "    for i in range(n, -1 , -1):\n",
    "        maxheapify(array, n, i)\n",
    "        \n",
    "    for i in range (n-1, 0, -1):\n",
    "        array[i] , array[0] = array[0] , array[i]\n",
    "        maxheapify(array, i, 0)"
   ]
  },
  {
   "cell_type": "code",
   "execution_count": 4,
   "metadata": {},
   "outputs": [
    {
     "name": "stdout",
     "output_type": "stream",
     "text": [
      "[1, 2, 3, 4, 5, 6, 7]\n"
     ]
    }
   ],
   "source": [
    "array = [3,5,6,4,1,7,2]\n",
    "heapsort(array)\n",
    "print (array)"
   ]
  },
  {
   "cell_type": "markdown",
   "metadata": {},
   "source": [
    "![](https://i.imgur.com/SS8tJZS.png)"
   ]
  },
  {
   "cell_type": "code",
   "execution_count": null,
   "metadata": {},
   "outputs": [],
   "source": []
  }
 ],
 "metadata": {
  "kernelspec": {
   "display_name": "Python 3",
   "language": "python",
   "name": "python3"
  },
  "language_info": {
   "codemirror_mode": {
    "name": "ipython",
    "version": 3
   },
   "file_extension": ".py",
   "mimetype": "text/x-python",
   "name": "python",
   "nbconvert_exporter": "python",
   "pygments_lexer": "ipython3",
   "version": "3.6.9"
  }
 },
 "nbformat": 4,
 "nbformat_minor": 2
}
