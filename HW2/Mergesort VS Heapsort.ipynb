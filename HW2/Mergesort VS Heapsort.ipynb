{
 "cells": [
  {
   "cell_type": "markdown",
   "metadata": {},
   "source": [
    "# Mergesort VS Heapsort\n",
    "\n",
    "時間複雜度 O(1)：不是時間的長短，而是步驟的多寡\n",
    "\n",
    "![](https://i.imgur.com/uGMD6DB.png)  \n",
    "\n",
    "mergesort：以我的程式碼打來會發現，最後要將它合併排列時要嘛用append，或是用新array的方式，這倆方法都是要跟記憶體再要一個位置。\n",
    "heapsort：它是一棵完整的binarytree，利用maxheap（minheap)的規則，只要一不符合heap規則，會再自動排列，而且它是在自己的那棵樹上排列，不會去占用到其他的記憶體。  \n",
    "＊從以上可以得知 heapsort 會比 mergesort 來得快速  \n",
    "🔗[比较排序算法](https://www.cnblogs.com/gaochundong/p/comparison_sorting_algorithms.html)"
   ]
  }
 ],
 "metadata": {
  "kernelspec": {
   "display_name": "Python 3",
   "language": "python",
   "name": "python3"
  },
  "language_info": {
   "codemirror_mode": {
    "name": "ipython",
    "version": 3
   },
   "file_extension": ".py",
   "mimetype": "text/x-python",
   "name": "python",
   "nbconvert_exporter": "python",
   "pygments_lexer": "ipython3",
   "version": "3.6.9"
  }
 },
 "nbformat": 4,
 "nbformat_minor": 2
}
