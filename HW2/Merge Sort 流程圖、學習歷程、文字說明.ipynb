{
 "cells": [
  {
   "cell_type": "markdown",
   "metadata": {},
   "source": [
    "# Merge Sort (合併排序法）\n",
    "\n",
    "## ＊ 將陣列裡的每個值分開，並且合併排序\n",
    "\n",
    "> Step1: 如果array的長度大於1才會繼續執行，先找出中間值，left會是第一個數到mid-1 `left = array[:mid]`，right會是mid到最後一個數`right = array[mid:]`，然後持續呼叫mergesort函式直到array裡的長度<=1。\n",
    "\n",
    "> Step2: 設變數i, j, k 皆為0，接著使用while迴圈，`while(條件）`，再來會比較 left[i] & right [j]，小的元素會被放進位置為k的新array裡面。\n",
    "\n",
    "> Step3: 但是為了防止當其中一邊的陣列跑完迴圈，所以條件要設三種：\n",
    ">> 第一是`i < len(left) and j < len(right)`  ：兩者都小於自己的長度時  \n",
    ">> 第二是`i < len(left)`：假設j已跑完right  \n",
    ">> 第三是`j < len(right)`：假設i已跑完left\n",
    "\n",
    "🔗[Merge Sort: A Quick Tutorial and Implementation Guide](https://www.pythoncentral.io/merge-sort-implementation-guide/)  \n",
    "🔗[Comparison Sort: Merge Sort(合併排序法)](http://alrightchiu.github.io/SecondRound/comparison-sort-merge-sorthe-bing-pai-xu-fa.html)"
   ]
  },
  {
   "cell_type": "code",
   "execution_count": 3,
   "metadata": {},
   "outputs": [],
   "source": [
    "def mergesort(array):\n",
    "    if len(array)<=1:\n",
    "        return array\n",
    "    \n",
    "    if len(array)>1:\n",
    "        mid = len(array)//2\n",
    "        left = array[:mid]\n",
    "        right = array[mid:]\n",
    "        \n",
    "        mergesort(left)\n",
    "        mergesort(right)\n",
    "\n",
    "        i,j,k=0,0,0\n",
    "\n",
    "        while i < len(left) and j < len(right):\n",
    "            if left[i] < right[j]:\n",
    "                array[k] = left[i]\n",
    "                i +=1\n",
    "            else:\n",
    "                array[k] = right[j]\n",
    "                j+=1\n",
    "            k+=1\n",
    "\n",
    "        while i < len(left):\n",
    "            array[k] = left[i]\n",
    "            i += 1\n",
    "            k += 1\n",
    "\n",
    "        while j < len(right):\n",
    "            array[k] = right[j]\n",
    "            j+= 1\n",
    "            k+= 1\n",
    "            \n",
    "        return array"
   ]
  },
  {
   "cell_type": "code",
   "execution_count": 4,
   "metadata": {},
   "outputs": [
    {
     "data": {
      "text/plain": [
       "[1, 2, 3, 4, 5, 6, 7, 8, 9]"
      ]
     },
     "execution_count": 4,
     "metadata": {},
     "output_type": "execute_result"
    }
   ],
   "source": [
    "array = [3,1,5,8,2,7,9,4,6]\n",
    "mergesort(array)"
   ]
  },
  {
   "cell_type": "markdown",
   "metadata": {},
   "source": [
    "### 下面同樣是以append()的方式，將left[i] 和 right [j]比較，小的元素放入新的res[]裡，最後再以`res+=left[i:]+right[j:]`將left & right合併。"
   ]
  },
  {
   "cell_type": "code",
   "execution_count": 5,
   "metadata": {},
   "outputs": [],
   "source": [
    "def Mergesort(mylist):\n",
    "        \"\"\"\n",
    "        :type nums: List[int] ex:[3,2,-4,6,4,2,19],[5,1,1,2,0,0]\n",
    "        :rtype: List[int] ex:[-4,2,2,3,4,6,19],[0,0,1,1,2,5]\n",
    "        \"\"\"\n",
    "        if len(mylist)<=1:\n",
    "            return mylist   #如果mylist裡面的元素不小於1，回傳mylist[]。\n",
    "\n",
    "        i,j=0,0\n",
    "        res =[]  #設兩個變數i,j，再設一個空的res集合，等等要將比較出來的數值放進去\n",
    "\n",
    "        if len(mylist)>1:\n",
    "            mid = int(len(mylist)//2)  #從mylist裡找出中間的元素\n",
    "            left = mylist[:mid]  #index(0)～index(mid-1)（因為python是從0開始，所以取出來的值只包含開頭，不包含結束）\n",
    "            right = mylist[mid:]  #index(mid)～index(end)，省略終點，會直接算到最後一個index\n",
    "            left = Mergesort(left)  \n",
    "            right = Mergesort(right) #呼叫自己，這兩行是為了將mylist裡的元素一個個分開，因為是位於Solution這個class裡，所以要self.merge_sort()\n",
    "\n",
    "            while i<len(left) and j<len(right): #使用while條件迴圈，當i(left)＆j(right)同時小於組裡的長度時，會進行下一步，反之，若有條件不符，則不會繼續進行\n",
    "                if left[i] < right [j]:\n",
    "                    res.append(left[i])  \n",
    "                    i+=1\n",
    "                elif left[i] > right[j]:\n",
    "                    res.append(right[j])\n",
    "                    j+=1                       #用append的方式將左邊和右邊相對較小的left[i] or right[j]放入新的res[]裡，哪方的值被丟出來，那一方的變數（i,j）+=1，為了往下個值比較。\n",
    "\n",
    "            res+=left[i:]+right[j:] #如果有一邊已經跑完了迴圈，這一步是以追加方式，將剩餘的元素加進res裡\n",
    "\n",
    "        return res"
   ]
  },
  {
   "cell_type": "code",
   "execution_count": 6,
   "metadata": {},
   "outputs": [],
   "source": [
    "mylist = [5,2,3,1,4]"
   ]
  },
  {
   "cell_type": "code",
   "execution_count": 7,
   "metadata": {},
   "outputs": [
    {
     "data": {
      "text/plain": [
       "[1, 2, 3, 4, 5]"
      ]
     },
     "execution_count": 7,
     "metadata": {},
     "output_type": "execute_result"
    }
   ],
   "source": [
    "Mergesort(mylist)"
   ]
  },
  {
   "cell_type": "markdown",
   "metadata": {},
   "source": [
    "![](https://i.imgur.com/f5O11Yr.png)"
   ]
  },
  {
   "cell_type": "code",
   "execution_count": null,
   "metadata": {},
   "outputs": [],
   "source": []
  }
 ],
 "metadata": {
  "kernelspec": {
   "display_name": "Python 3",
   "language": "python",
   "name": "python3"
  },
  "language_info": {
   "codemirror_mode": {
    "name": "ipython",
    "version": 3
   },
   "file_extension": ".py",
   "mimetype": "text/x-python",
   "name": "python",
   "nbconvert_exporter": "python",
   "pygments_lexer": "ipython3",
   "version": "3.6.9"
  }
 },
 "nbformat": 4,
 "nbformat_minor": 2
}
