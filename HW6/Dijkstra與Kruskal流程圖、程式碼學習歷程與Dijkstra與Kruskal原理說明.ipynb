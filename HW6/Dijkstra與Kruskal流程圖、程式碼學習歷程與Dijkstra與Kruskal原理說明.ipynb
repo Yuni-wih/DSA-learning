{
 "cells": [
  {
   "cell_type": "markdown",
   "metadata": {},
   "source": [
    "# Dijkstra and Kruskal\n",
    "\n",
    "* Dijkstra`迪傑斯特拉算法`：典型最短路徑算法，起點（頂點s)到各個點的最短路徑。  \n",
    "* Kruskal`克魯斯克爾演算法`：首先將所有的邊由小到大排序，再以擴展邊的方式將權重小，相連兩個點，如果產生了loop(cycle)，則必須捨棄，直到n-1條邊為止。  \n",
    "\n",
    ">Reference  \n",
    ">🔗[Maximum and Minimum values for ints](https://stackoverflow.com/questions/7604966/maximum-and-minimum-values-for-ints/7604981)  \n",
    ">🔗[Dijkstra算法python详细实现](https://zhuanlan.zhihu.com/p/63395403)  \n",
    ">🔗[通俗易懂理解——dijkstra算法求最短路径](https://zhuanlan.zhihu.com/p/40338107)  \n",
    ">🔗[Kruskal’s Minimum Spanning Tree Algorithm | Greedy Algo-2](https://www.geeksforgeeks.org/kruskals-minimum-spanning-tree-algorithm-greedy-algo-2/)  \n",
    ">🔗[MST Kruskal's algorithm in Python](https://codereview.stackexchange.com/questions/159381/mst-kruskals-algorithm-in-python/159407)  "
   ]
  },
  {
   "cell_type": "code",
   "execution_count": 1,
   "metadata": {},
   "outputs": [],
   "source": [
    "# Python program for Dijkstra's single  \n",
    "# source shortest path algorithm. The program is  \n",
    "# for adjacency matrix representation of the graph \n",
    "# Python program for Kruskal's algorithm to find \n",
    "# Minimum Spanning Tree of a given connected,  \n",
    "# undirected and weighted graph \n",
    "\n",
    "from collections import defaultdict \n",
    "\n",
    "#Class to represent a graph \n",
    "class Graph(): \n",
    "\n",
    "    def __init__(self, vertices): \n",
    "        self.V = vertices   #幾個頂點\n",
    "        self.graph = []\n",
    "        self.graph_matrix = [[0 for column in range(vertices)]  \n",
    "                    for row in range(vertices)] \n",
    "    def addEdge(self,u,v,w): \n",
    "        \"\"\"\n",
    "        :type u,v,w: int\n",
    "        :rtype: None\n",
    "        \"\"\"       \n",
    "        self.graph.append([u,v,w])\n",
    "        \n",
    "    def Dijkstra(self, s): \n",
    "        \"\"\"\n",
    "        :type s: int\n",
    "        :rtype: dict\n",
    "        \"\"\"\n",
    "        #nopass = [False]*self.V\n",
    "        nopass = [i for i in range (0,len(g.graph))]  #[0,1,2,3,4,5,6,7,8]\n",
    "        visited = []  #將已經確定頂點s(0)到i(1~8)的距離放進\n",
    "        \n",
    "        if s in nopass:\n",
    "            visited.append(s)   #[0]頂點放入\n",
    "            nopass.remove(s)    #[1,2,3,4,5,6,7,8] 頂點移出\n",
    "            \n",
    "        dis = [float(\"inf\")]*self.V  #頂點s(0)到i(1~8)的距離，確定的取代dis中的無限值\n",
    "                                     #[inf,inf,inf,inf,inf,inf,inf,inf,inf]\n",
    "        \n",
    "        for n in range (0,len(g.graph[s])):\n",
    "            if g.graph[s][n] != 0:\n",
    "                dis[n] = g.graph[s][n]  #因為測資的值中，一開始會知道頂點到某點的距離，那麼dis裡的值就會被取代\n",
    "                                        #[0,4,inf,inf,inf,inf,inf,8,inf]\n",
    "                \n",
    "        dis[s]=0 #頂點s到頂點s的距離皆為0\n",
    "                             \n",
    "        while len(nopass):      #當nopass中還有點未被算最短距離時，move on \n",
    "            index = nopass[0]   # index = 1，此時的nopass=[1,2,3,4,5,6,7,8]\n",
    "            \n",
    "            def min_path(dis):        #裡頭寫一個function，為了找最短路徑\n",
    "                mi = float(\"inf\")     # mi = 無限\n",
    "                for k in nopass:      # k = 1,2,3,4,5,6,7,8\n",
    "                    if dis[k] < mi:   #假設dis[k] < 無限，代表已經有經過ｋ點\n",
    "                        mi = dis[k]   # dis[k]的值變成無限\n",
    "                        min_index = k #此時最小值的位置為k\n",
    "                return min_index\n",
    "            \n",
    "            m = min_path(dis)         #找出dis裡當前最小值的位置k\n",
    "            \n",
    "            for k in nopass:          \n",
    "                if (dis[m] + g.graph[m][k] < dis[k]) and g.graph[m][k]!=0:\n",
    "                    dis[k] = dis[m] + g.graph[m][k] \n",
    "                    \n",
    "            #如果dis[m](dis中最小的值) + g.graph[m][k](代表m連接的節點距離) <  dis[k] (k位置的值) \n",
    "            #同時g.graph[m][k]!=0，因為g.graph[1] = [4,0,8,0,0,0,0,11,0]，若是加上 m = 4\n",
    "            # dis[m] + g.graph[m][k]=[8,4,12,4,4,4,4,15,4] 那這樣新的dis會變成[0,4,12,4,4,4,4,8,4]\n",
    "            #所以g.graph[m][k]!=0\n",
    "            #若是if條件成立，那麼dis中的最短距離就會改變，變為dis[m]+g.graph[m][k] 新的dis=[0,4,12,inf,inf,inf,inf,8,inf]\n",
    "              \n",
    "            if m in nopass:\n",
    "                nopass.remove(m)\n",
    "            visited.append(m)\n",
    "            \n",
    "            #若是m存在在nopass裡，移除放進visited[]\n",
    "            \n",
    "            dictionary = {}\n",
    "            for d in range(0,self.V):\n",
    "                dictionary[str(d)]= dis[d]\n",
    "                \n",
    "        return dictionary\n",
    "\n",
    "    def Kruskal(self):\n",
    "        \"\"\"\n",
    "        :rtype: dict\n",
    "        \"\"\"\n",
    "        g.graph =  sorted(g.graph,key=lambda item: item[2])  #依照g.graph[n][2] = weight排序\n",
    "        \n",
    "        i = 0\n",
    "        parent = [-1]*self.V      # self.V = 4 , [-1, -1, -1, -1]\n",
    "        visited = []              # 已走訪過的\n",
    "        dictionary={} \n",
    "                \n",
    "        while i < self.V:         # 當 i < self.V成立，move on \n",
    "            \n",
    "            for j in range (0,len(g.graph[i])):  #g.graph = [u,v,w]，設u的root會是v的root\n",
    "\n",
    "                if j==0:     \n",
    "                    if g.graph[i][0] not in visited:\n",
    "                        parent[g.graph[i][j]]=g.graph[i][j]\n",
    "                        visited.append(g.graph[i][j])\n",
    "                    \n",
    "                #如果 j = 0：move on，若是此點未被走訪過，那此點的root會是自己，並且將此節點放入visited[]\n",
    "                #如果被走訪過了，就維持原來的root就好\n",
    "\n",
    "                elif j==1 and parent[g.graph[i][0]] != parent[g.graph[i][1]]:\n",
    "\n",
    "                    if g.graph[i][j] not in visited:\n",
    "                        parent[g.graph[i][j]]=parent[g.graph[i][0]]\n",
    "                        visited.append(g.graph[i][j])\n",
    "\n",
    "                    else:\n",
    "                        m=0\n",
    "                        root = parent[g.graph[i][j]]\n",
    "                        parent[g.graph[i][j]] = parent[g.graph[i][0]]\n",
    "                        while m < len(parent):\n",
    "                            if parent[m] == root:\n",
    "                                parent[m] = parent[g.graph[i][0]] \n",
    "                            m+=1\n",
    "                    #如果 j ==1且parent[g.graph[i][0]] != parent[g.graph[i][1]\n",
    "                    #若是此點未被走訪過，那此點的root會是parent[g.graph[i][0]]，並且將此節點放入visited[]\n",
    "                    #如果被走訪過了，要將所有跟g.graph[i][j]有同一個root的點全轉成parent[g.graph[i][0]]\n",
    "                    \n",
    "                    a = str(g.graph[i][0])\n",
    "                    b = str(g.graph[i][1])\n",
    "                    c = str(a+\"-\"+b)\n",
    "                    dictionary[str(c)] = g.graph[i][2]\n",
    "            i+=1\n",
    "        return dictionary"
   ]
  },
  {
   "cell_type": "code",
   "execution_count": 2,
   "metadata": {},
   "outputs": [
    {
     "name": "stdout",
     "output_type": "stream",
     "text": [
      "Dijkstra {'0': 0, '1': 4, '2': 12, '3': 19, '4': 21, '5': 11, '6': 9, '7': 8, '8': 14}\n"
     ]
    }
   ],
   "source": [
    "g = Graph(9)\n",
    "g.graph = [[0,4,0,0,0,0,0,8,0],\n",
    "           [4,0,8,0,0,0,0,11,0],\n",
    "           [0,8,0,7,0,4,0,0,2],\n",
    "           [0,0,7,0,9,14,0,0,0],\n",
    "           [0,0,0,9,0,10,0,0,0],\n",
    "           [0,0,4,14,10,0,2,0,0],\n",
    "           [0,0,0,0,0,2,0,1,6],\n",
    "           [8,11,0,0,0,0,1,0,7],\n",
    "           [0,0,2,0,0,0,6,7,0]];\n",
    "\n",
    "\n",
    "print(\"Dijkstra\",g.Dijkstra(0))"
   ]
  },
  {
   "cell_type": "code",
   "execution_count": 3,
   "metadata": {},
   "outputs": [
    {
     "name": "stdout",
     "output_type": "stream",
     "text": [
      "Kruskal {'2-3': 4, '0-3': 5, '0-1': 10}\n"
     ]
    }
   ],
   "source": [
    "g = Graph(4)\n",
    "g.addEdge(0,1,10)\n",
    "g.addEdge(0,2,6)\n",
    "g.addEdge(0,3,5)\n",
    "g.addEdge(1,3,15)\n",
    "g.addEdge(2,3,4)\n",
    "\n",
    "print(\"Kruskal\",g.Kruskal())"
   ]
  },
  {
   "cell_type": "code",
   "execution_count": 4,
   "metadata": {},
   "outputs": [
    {
     "name": "stdout",
     "output_type": "stream",
     "text": [
      "Kruskal {'6-9': 1, '1-4': 2, '2-5': 2, '3-6': 2, '0-3': 3, '1-2': 3, '3-4': 3, '5-8': 3, '6-7': 3}\n"
     ]
    }
   ],
   "source": [
    "g = Graph(10)\n",
    "g.addEdge(0, 1, 7)\n",
    "g.addEdge(0, 3, 3)\n",
    "g.addEdge(1, 2, 3)\n",
    "g.addEdge(1, 4, 2)\n",
    "g.addEdge(2, 5, 2)\n",
    "g.addEdge(3, 4, 3)\n",
    "g.addEdge(3, 6, 2)\n",
    "g.addEdge(4, 5, 5)\n",
    "g.addEdge(4, 7, 7)\n",
    "g.addEdge(5, 8, 3)\n",
    "g.addEdge(6, 7, 3)\n",
    "g.addEdge(6, 9, 1)\n",
    "g.addEdge(7, 8, 7)\n",
    "\n",
    "print(\"Kruskal\",g.Kruskal())"
   ]
  },
  {
   "cell_type": "code",
   "execution_count": 10,
   "metadata": {},
   "outputs": [
    {
     "name": "stdout",
     "output_type": "stream",
     "text": [
      "Kruskal {'7-6': 1, '8-2': 2, '6-5': 2, '1-0': 4, '2-5': 4, '2-3': 7, '0-7': 8}\n"
     ]
    }
   ],
   "source": [
    "g = Graph(9)\n",
    "g.addEdge(7,6,1)\n",
    "g.addEdge(8,2,2)\n",
    "g.addEdge(6,5,2)\n",
    "g.addEdge(1,0,4)\n",
    "g.addEdge(2,5,4)\n",
    "g.addEdge(6,8,6)\n",
    "g.addEdge(2,3,7)\n",
    "g.addEdge(7,8,7)\n",
    "g.addEdge(0,7,8)\n",
    "g.addEdge(1,2,8)\n",
    "g.addEdge(3,4,9)\n",
    "g.addEdge(4,5,10)\n",
    "g.addEdge(1,7,11)\n",
    "g.addEdge(3,5,14)\n",
    "\n",
    "print(\"Kruskal\",g.Kruskal())"
   ]
  },
  {
   "cell_type": "markdown",
   "metadata": {},
   "source": [
    "### Dijkstra與Kruskal流程圖\n",
    "![](https://i.imgur.com/iGedxK8.jpg)\n",
    "![](https://i.imgur.com/u9qUlss.jpg)"
   ]
  },
  {
   "cell_type": "code",
   "execution_count": 5,
   "metadata": {},
   "outputs": [
    {
     "name": "stdout",
     "output_type": "stream",
     "text": [
      "[1, 2, 3, 4, 5, 6, 7, 8, 9, 10, 11, 12]\n"
     ]
    }
   ],
   "source": [
    "s = 0\n",
    "nodes = [i for i in range(0,len(g.graph)) if i != 0 ]\n",
    "print(nodes)"
   ]
  },
  {
   "cell_type": "code",
   "execution_count": 6,
   "metadata": {},
   "outputs": [
    {
     "name": "stdout",
     "output_type": "stream",
     "text": [
      "1\n",
      "2\n",
      "3\n",
      "4\n",
      "5\n",
      "6\n",
      "7\n",
      "8\n"
     ]
    }
   ],
   "source": [
    "nopass = [1,2,3,4,5,6,7,8]\n",
    "for i in nopass:\n",
    "    print(i)"
   ]
  },
  {
   "cell_type": "markdown",
   "metadata": {},
   "source": [
    "#### 參考網站寫法"
   ]
  },
  {
   "cell_type": "code",
   "execution_count": 7,
   "metadata": {},
   "outputs": [
    {
     "name": "stdout",
     "output_type": "stream",
     "text": [
      "[0, 2] [1, 3, 4, 5]\n",
      "[0, 2, 5] [1, 3, 4]\n",
      "[0, 2, 5, 1] [3, 4]\n",
      "[0, 2, 5, 1, 3] [4]\n",
      "[0, 2, 5, 1, 3, 4] []\n",
      "{0: 0, 1: 2, 2: 1, 3: 2, 4: 2, 5: 1}\n"
     ]
    }
   ],
   "source": [
    "def dijkstra(graph,src):\n",
    "    # 判断图是否为空，如果为空直接退出\n",
    "    if graph is None:\n",
    "        return None\n",
    "    nodes = [i for i in range(len(graph))]  # 获取图中所有节点\n",
    "    visited=[]  # 表示已经路由到最短路径的节点集合\n",
    "    if src in nodes:\n",
    "        visited.append(src)\n",
    "        nodes.remove(src)\n",
    "    else:\n",
    "        return None\n",
    "    distance={src:0}  # 记录源节点到各个节点的距离\n",
    "    for i in nodes:\n",
    "        distance[i]=graph[src][i]  # 初始化\n",
    "    # print(distance)\n",
    "    path={src:{src:[]}}  # 记录源节点到每个节点的路径\n",
    "    k=pre=src\n",
    "    while nodes:\n",
    "        mid_distance=float('inf')\n",
    "        for v in visited:\n",
    "            for d in nodes:\n",
    "                new_distance = graph[src][v]+graph[v][d]\n",
    "                if new_distance < mid_distance:\n",
    "                    mid_distance=new_distance\n",
    "                    graph[src][d]=new_distance  # 进行距离更新\n",
    "                    k=d\n",
    "                    pre=v\n",
    "        distance[k]=mid_distance  # 最短路径\n",
    "        path[src][k]=[i for i in path[src][pre]]\n",
    "        path[src][k].append(k)\n",
    "        # 更新两个节点集合\n",
    "        visited.append(k)\n",
    "        nodes.remove(k)\n",
    "        print(visited,nodes)  # 输出节点的添加过程\n",
    "    return distance,path\n",
    "if __name__ == '__main__':\n",
    "    graph_list = [ [0, 2, 1, 4, 5, 1],\n",
    "            [1, 0, 4, 2, 3, 4],\n",
    "            [2, 1, 0, 1, 2, 4],\n",
    "            [3, 5, 2, 0, 3, 3],\n",
    "            [2, 4, 3, 4, 0, 1],\n",
    "            [3, 4, 7, 3, 1, 0]]\n",
    "\n",
    "    distance,path= dijkstra(graph_list, 0)  # 查找从源点0开始带其他节点的最短路径\n",
    "    print(distance)"
   ]
  },
  {
   "cell_type": "code",
   "execution_count": 8,
   "metadata": {},
   "outputs": [
    {
     "name": "stdout",
     "output_type": "stream",
     "text": [
      "[0, 1, 8, 4, 13, 17]\n"
     ]
    }
   ],
   "source": [
    "def startwith(start: int, mgraph: list) -> list:\n",
    "    passed = [start]\n",
    "    nopass = [x for x in range(len(mgraph)) if x != start]\n",
    "    dis = mgraph[start]\n",
    "    \n",
    "    while len(nopass):\n",
    "        idx = nopass[0]\n",
    "        for i in nopass:\n",
    "            if dis[i] < dis[idx]: idx = i\n",
    "\n",
    "        nopass.remove(idx)\n",
    "        passed.append(idx)\n",
    "\n",
    "        for i in nopass:\n",
    "            if dis[idx] + mgraph[idx][i] < dis[i]: \n",
    "                dis[i] = dis[idx] + mgraph[idx][i]\n",
    "    return dis\n",
    "\n",
    "\n",
    "if __name__ == \"__main__\":\n",
    "    inf = 10086\n",
    "    mgraph = [[0, 1, 12, inf, inf, inf],\n",
    "              [inf, 0, 9, 3, inf, inf],\n",
    "              [inf, inf, 0, inf, 5, inf],\n",
    "              [inf, inf, 4, 0, 13, 15],\n",
    "              [inf, inf, inf ,inf, 0, 4],\n",
    "              [inf, inf, inf, inf ,inf, 0]]\n",
    "\n",
    "    dis = startwith(0, mgraph)\n",
    "    print(dis)"
   ]
  },
  {
   "cell_type": "markdown",
   "metadata": {},
   "source": [
    "#### 僅限於簡單測資，因為沒有辦法換掉其他的parent"
   ]
  },
  {
   "cell_type": "code",
   "execution_count": 9,
   "metadata": {},
   "outputs": [],
   "source": [
    "def Kruskal(self):\n",
    "        \"\"\"\n",
    "        :rtype: dict\n",
    "        \"\"\"\n",
    "        g.graph =  sorted(g.graph,key=lambda item: item[2])\n",
    "        \n",
    "        i = 0\n",
    "        parent = [-1]*self.V      #[-1, -1, -1, -1]\n",
    "        visited = []\n",
    "        dictionary={} \n",
    "        while i < self.V:\n",
    "                \n",
    "            for j in range (0,len(g.graph[i])):\n",
    "\n",
    "                if j==0:\n",
    "                    if g.graph[i][0] not in visited:\n",
    "                        parent[g.graph[i][j]]=g.graph[i][j]\n",
    "                        visited.append(g.graph[i][j])\n",
    "                        \n",
    "                    else:\n",
    "                        parent[parent[g.graph[i][j]]] = g.graph[i][j]\n",
    "                        parent[g.graph[i][j]]=g.graph[i][j]\n",
    "\n",
    "                elif j==1:\n",
    "                    if parent[g.graph[i][0]] != parent[g.graph[i][1]]:\n",
    "                        if g.graph[i][j] not in visited:\n",
    "                            parent[g.graph[i][j]]=g.graph[i][0]\n",
    "                            visited.append(g.graph[i][j])\n",
    "\n",
    "                        else:\n",
    "                            parent[parent[g.graph[i][j]]] = g.graph[i][0]\n",
    "                            parent[g.graph[i][j]]=g.graph[i][0]\n",
    "                else:\n",
    "                    pass\n",
    "                \n",
    "                if parent[g.graph[i][0]] != parent[g.graph[i][1]]:\n",
    "                    dictionary[(g.graph[i][0],g.graph[i][1])] = g.graph[i][2]\n",
    "\n",
    "            i+=1\n",
    "        return (visited,parent,dictionary)"
   ]
  }
 ],
 "metadata": {
  "kernelspec": {
   "display_name": "Python 3",
   "language": "python",
   "name": "python3"
  },
  "language_info": {
   "codemirror_mode": {
    "name": "ipython",
    "version": 3
   },
   "file_extension": ".py",
   "mimetype": "text/x-python",
   "name": "python",
   "nbconvert_exporter": "python",
   "pygments_lexer": "ipython3",
   "version": "3.6.9"
  }
 },
 "nbformat": 4,
 "nbformat_minor": 2
}
