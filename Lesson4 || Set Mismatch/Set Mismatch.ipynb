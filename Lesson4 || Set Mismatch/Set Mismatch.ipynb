{
 "cells": [
  {
   "cell_type": "markdown",
   "metadata": {},
   "source": [
    "# Set Mismatch\n",
    "\n",
    "### class(類)\n",
    "* 屬性：涉及的變量   \n",
    "* 方法：函数\n",
    "### _init_函數（方法）\n",
    "* 帶有兩個底線是為了聲明該屬性為私有，不能在class外被使用或直接訪問。\n",
    "* init函數 支持帶參數的class的初始化，也可為聲明該類的屬性。Ex: _init_(self,data) \n",
    "* init函數的第一个参數必須是 self（也可以用别的名字），後續參數則可以自由指定，和定義函數沒有任何區別。\n",
    "### 函數定義\n",
    "* def 函數名（參數）\n",
    "\n",
    "\n",
    ">Reference  \n",
    ">🔗[如何理解python的类与对象？](https://www.zhihu.com/question/27699413)"
   ]
  },
  {
   "cell_type": "code",
   "execution_count": 1,
   "metadata": {},
   "outputs": [],
   "source": [
    "nums = [1,2,3,3,5]"
   ]
  },
  {
   "cell_type": "code",
   "execution_count": 2,
   "metadata": {},
   "outputs": [],
   "source": [
    "class Solution:\n",
    "    def findErrorNums(self,nums):\n",
    "        \"\"\"\n",
    "        :type nums:List[int]\n",
    "        :rtype:List[int]\n",
    "        \"\"\"\n",
    "        holder=[0]*len(nums)\n",
    "        repeated_num = 0\n",
    "        \n",
    "        for i in range(0, len(nums)):\n",
    "            if holder[nums[i]-1]!=0:\n",
    "                repeated_num=nums[i]\n",
    "            holder[nums[i]-1]=nums[i]\n",
    "        return [repeated_num, holder.index(0)+1]"
   ]
  },
  {
   "cell_type": "code",
   "execution_count": 3,
   "metadata": {},
   "outputs": [],
   "source": [
    "a=Solution()"
   ]
  },
  {
   "cell_type": "code",
   "execution_count": 4,
   "metadata": {},
   "outputs": [
    {
     "name": "stdout",
     "output_type": "stream",
     "text": [
      "[3, 4]\n"
     ]
    }
   ],
   "source": [
    "print(a.findErrorNums(nums))"
   ]
  },
  {
   "cell_type": "markdown",
   "metadata": {},
   "source": [
    "## 自己的想法\n",
    "\n",
    "#### 跟老師的很像，都是以新的數組來看陣列裡的缺失值及重複值"
   ]
  },
  {
   "cell_type": "code",
   "execution_count": 31,
   "metadata": {},
   "outputs": [],
   "source": [
    "def findErrorNums(nums):\n",
    "\n",
    "        N = len(nums)\n",
    "        count = [0]* (N+1)\n",
    "        for x in nums:\n",
    "            count[x] += 1        \n",
    "        for x in range(1,N+1):\n",
    "            if count[x] == 2:\n",
    "                dup = x\n",
    "            if count[x] == 0:\n",
    "                missing = x\n",
    "                \n",
    "        return [dup,missing]"
   ]
  },
  {
   "cell_type": "code",
   "execution_count": 33,
   "metadata": {},
   "outputs": [
    {
     "name": "stdout",
     "output_type": "stream",
     "text": [
      "[3, 4]\n"
     ]
    }
   ],
   "source": [
    "print (findErrorNums(nums))"
   ]
  }
 ],
 "metadata": {
  "kernelspec": {
   "display_name": "Python 3",
   "language": "python",
   "name": "python3"
  },
  "language_info": {
   "codemirror_mode": {
    "name": "ipython",
    "version": 3
   },
   "file_extension": ".py",
   "mimetype": "text/x-python",
   "name": "python",
   "nbconvert_exporter": "python",
   "pygments_lexer": "ipython3",
   "version": "3.6.9"
  }
 },
 "nbformat": 4,
 "nbformat_minor": 2
}
