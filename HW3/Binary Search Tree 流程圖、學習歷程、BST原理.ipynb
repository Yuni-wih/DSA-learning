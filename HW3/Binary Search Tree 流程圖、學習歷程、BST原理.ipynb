{
 "cells": [
  {
   "cell_type": "markdown",
   "metadata": {},
   "source": [
    "# Binary Search Tree\n",
    "\n",
    "1.若任意節點的leftkid is not None，則leftkid.val<root.val；  \n",
    "\n",
    "2.若任意節點的rightkid is not None，則rightkid.val<root.val；  \n",
    "\n",
    "3.任意節點的左、右子樹也分別為二元搜尋樹；  \n",
    "\n",
    "4.沒有`val`相等的節點。  \n",
    "\n",
    "\n",
    "🔗https://www.tutorialspoint.com/python_data_structure/python_binary_search_tree.htm  \n",
    "\n",
    "🔗[Binary Search Tree: Intro(簡介)](http://alrightchiu.github.io/SecondRound/binary-search-tree-introjian-jie.html)  \n",
    "\n",
    "🔗https://www.laurentluce.com/posts/binary-search-tree-library-in-python/  \n",
    "\n",
    "🔗\n",
    "http://alrightchiu.github.io/SecondRound/binary-search-tree-sortpai-xu-deleteshan-chu-zi-liao.html"
   ]
  },
  {
   "cell_type": "markdown",
   "metadata": {},
   "source": [
    "## 完整版本"
   ]
  },
  {
   "cell_type": "code",
   "execution_count": 1,
   "metadata": {},
   "outputs": [],
   "source": [
    "# Definition for a binary tree node.\n",
    "class TreeNode(object):\n",
    "    def __init__(self,x):\n",
    "        self.val = x\n",
    "        self.left = None\n",
    "        self.right = None\n",
    "        \"\"\"\n",
    "        :type val: int\n",
    "        :type left: TreeNode or None\n",
    "        :type right: TreeNode or None\n",
    "        \"\"\"\n",
    "    def Printtree(self):\n",
    "        \n",
    "        if self.left:\n",
    "            self.left.Printtree()\n",
    "            \n",
    "        print(self.val),\n",
    "        \n",
    "        if self.right:\n",
    "            self.right.Printtree()\n",
    "            \n",
    "class Solution(object):\n",
    "    \n",
    "    def insert(self, root, val):\n",
    "        \"\"\"\n",
    "        :type root: TreeNode\n",
    "        :type val: int\n",
    "        :rtype: TreeNode(inserted node)\n",
    "        \"\"\"\n",
    "        data = TreeNode(val)\n",
    "        \n",
    "        if root.val:    #root.val 存在，往下走\n",
    "            if val <= root.val:\n",
    "                \n",
    "                if root.left is None:\n",
    "                    root.left = data\n",
    "                    return root.left            # 如果左邊的節點是空的，那麼把新的值放進去\n",
    "                else:\n",
    "                    return self.insert(root.left,val)   # 如果左邊目前是有值存在的話，再次呼叫insert，繼續往左邊走\n",
    "                \n",
    "            elif val > root.val:\n",
    "               \n",
    "                if root.right is None:    \n",
    "                    root.right = data\n",
    "                    return root.right\n",
    "                else:\n",
    "                    return self.insert(root.right,val)   # 同右邊寫法\n",
    "                \n",
    "    def delete(self, root, target):\n",
    "        \"\"\"\n",
    "        :type root: TreeNode\n",
    "        :type target: int\n",
    "        :rtype: TreeNode(the root of new completed binary search tree) (cannot search())\n",
    "        \"\"\"\n",
    "        \n",
    "        node = self.search(root,target)   #先找看看要刪除的數是否存在\n",
    "        parent = root    #需要一個會移動的parent，有點像哨兵\n",
    "        \n",
    "        if root == None:\n",
    "            return root      #如果沒有root回傳\n",
    "        if node:\n",
    "            if target < root.val:\n",
    "                root.left = self.delete(root.left,target)\n",
    "            elif target > root.val:\n",
    "                root.right = self.delete(root.right,target)\n",
    "                \n",
    "                #找target，在root左邊或右邊，找到了的話再次呼叫delete function，\n",
    "\n",
    "            else:\n",
    "\n",
    "                if root.left is None and root.right is None:\n",
    "                    \n",
    "                    root = None  \n",
    "                \n",
    "                # 0個小孩的情況，當左邊和右邊是空節點時，當下的root將會成為空值\n",
    "\n",
    "                elif root.left and (root.right is None):                    \n",
    "                    root = root.left\n",
    "                    self.delete(root,target)\n",
    "\n",
    "                elif (root.left is None) and root.right:\n",
    "                    root = root.right\n",
    "                    self.delete(root,target)\n",
    "                    \n",
    "                # 1個小孩的情況，若左邊或右邊只有一個節點是存在的話，會將新的root賜予給那位小孩，並看看他有沒有更多小孩，讓鏈接不會斷掉\n",
    "\n",
    "                elif root.left and root.right:\n",
    "\n",
    "                    parent = root\n",
    "                    successor = root.right\n",
    "\n",
    "                    while successor.left:\n",
    "                        parent = successor\n",
    "                        successor = successor.left\n",
    "\n",
    "                    root.val = successor.val\n",
    "\n",
    "                    if root == successor:\n",
    "                        parent.left = successor.right\n",
    "                    else:\n",
    "                        parent.right = successor.right\n",
    "                \n",
    "                # 2個小孩的情況有兩種方法，一種是看左邊（left subtree)，找出最大值（predecessor)；一種是看右邊（right subtree)，找出最小值（successor)\n",
    "                # 最後用parent和successor去走動，將right subtree中最左邊的最小值=successor，跟root交換，這時候parent會是successor的父節點，因為不能確定successor有沒有小孩，但是只會有一種情況：\n",
    "                # 右邊有小孩（因為如果左邊有小孩，那麼successor就不成立），當successor成為root時，他的小孩會接上parent<有點像是爸爸去上班，孩子給爺爺帶>\n",
    "                \n",
    "\n",
    "            return root\n",
    "\n",
    "    def search(self, root, target):\n",
    "        \"\"\"\n",
    "        :type root: TreeNode\n",
    "        :type target: int\n",
    "        :rtype: TreeNode(searched node)\n",
    "        \"\"\"\n",
    "        if target < root.val:\n",
    "            if root.left == None:\n",
    "                return None \n",
    "            return self.search(root.left,target)\n",
    "        \n",
    "        elif target > root.val:\n",
    "            if root.right == None:\n",
    "                return None\n",
    "            return self.search(root.right,target)\n",
    "        \n",
    "        else:\n",
    "            return root\n",
    "        \n",
    "        # 查詢target是否有在這個棵樹裡，沒有回傳None，有的話回傳root    \n",
    "    \n",
    "    def modify(self, root, target, new_val):\n",
    "        \"\"\"\n",
    "        :type root: TreeNode\n",
    "        :type target: int\n",
    "        :type new_val: int\n",
    "        :rtype:TreeNode(the root of new completed binary search tree) (cannot search())\n",
    "        \"\"\"\n",
    "        old = self.Tree_array(root)\n",
    "        new = []\n",
    "        for i in old:\n",
    "            if i == target:\n",
    "                i = new_val\n",
    "                new.append(i)\n",
    "            else:\n",
    "                new.append(i)\n",
    "        \n",
    "        new_array = self.heap_sort(new)\n",
    "        new_root = len(new_array)//2\n",
    "        new_data = TreeNode(new_array[new_root])\n",
    "        \n",
    "        for j in range(len(new_array)):\n",
    "            if j != new_root:\n",
    "                self.insert(new_data, new_array[j])\n",
    "\n",
    "        return new_data\n",
    "    \n",
    "      #先將本來的樹變成一個list，然後如果裡面第i個位置的值=target(目標刪除），以new_val取代，其他則一一append至new[]裡\n",
    "      #new[]需要先heapsort，由小排列到大，再取出中間值，確保新的樹的樹高會小於等於原本的樹\n",
    "      #new_data會成為新的root，然後再用一個for迴圈，把new_array中除new_root的值放入binary tree裡，結束。\n",
    "        \n",
    "    \n",
    "    def Tree_array(self, root):\n",
    "        \n",
    "        vals = []\n",
    "\n",
    "        def dfs(node):\n",
    "            if node:\n",
    "                vals.append(node.val)\n",
    "                dfs(node.left)\n",
    "                dfs(node.right)\n",
    "\n",
    "        dfs(root)\n",
    "        return vals\n",
    "    #引用univaltree的方法，將node放進vals[]裡，檔案在anaconda，還未上傳\n",
    "    \n",
    "    def heap_sort(self,nums):\n",
    "        n = len (nums)    # n 是 nums數列長度\n",
    "        parent = (n//2)-1  #最後一個父節點\n",
    "\n",
    "        while parent >=0:  #當父節點>=0時，繼續執行\n",
    "            self.heapify(nums,parent,n)  #呼叫Solution中的heapify函數，將所有父節點>子節點\n",
    "            parent-=1  #parent會減少，因為要從最下面的節點開始篩選，一一往上\n",
    "\n",
    "        end = len(nums)-1  #設end是數列長度減1，因為python的數列是從0開始，所以結束的位置是len(nums)-1\n",
    "\n",
    "        while (end > 0):  #當end大於0時，下一步\n",
    "            nums[end] , nums[0] = nums[0] , nums[end]  #此時因為上方已經呼叫了heapify函數，所以index(0)會是最大的值，跟最後一個元素的值交換\n",
    "            self.heapify(nums, 0, end) #此步驟是因為上一步的交換使得index(0)不是數列中最大的值，所以再次呼叫heapify函數\n",
    "            end -= 1  #每一次的迴圈中會把最大的值往最後一個元素放，所以下一次跑迴圈時，不可包含最後面已經交換完成的元素，因為它們已排列好\n",
    "                \n",
    "        return nums #回傳nums\n",
    "\n",
    "    def heapify(self,nums, i, n):  #這個函數是為了讓heapsort呼叫而設的\n",
    "\n",
    "        daddy = i\n",
    "        leftkid = 2*i+1\n",
    "        rightkid = 2*i+2  #爸爸、左邊小孩、右邊小孩，爸爸>左邊小孩、右邊小孩\n",
    "\n",
    "        if leftkid < n and nums[daddy] < nums[leftkid]:\n",
    "            daddy = leftkid\n",
    "        if rightkid < n and nums[daddy] < nums[rightkid]:\n",
    "            daddy = rightkid\n",
    "        if daddy != i:\n",
    "            nums [i] ,nums[daddy] = nums[daddy] , nums[i]\n",
    "            self.heapify(nums,daddy,n)\n",
    "            \n",
    "    #引用自己的heap_sort方法"
   ]
  },
  {
   "cell_type": "markdown",
   "metadata": {},
   "source": [
    "* modify方法參考 05170209學姊的方法\n",
    "🔗[Link](https://github.com/mandy331/Data-Structure_PythonNote/blob/master/HW3/BinarySearchTree學習歷程%26流程圖.ipynb)  \n",
    "因為真的不太懂modify定義，網路上能查到的有限"
   ]
  },
  {
   "cell_type": "code",
   "execution_count": 2,
   "metadata": {},
   "outputs": [
    {
     "data": {
      "text/plain": [
       "[5, 3, 3, -5, 8, 7, 6, 10]"
      ]
     },
     "execution_count": 2,
     "metadata": {},
     "output_type": "execute_result"
    }
   ],
   "source": [
    "root = TreeNode(5)\n",
    "Node1 = TreeNode(3)\n",
    "Node2 = TreeNode(3)\n",
    "Node3 = TreeNode(-5)\n",
    "Node4 = TreeNode(8) \n",
    "root.left = Node1\n",
    "Node1.left = Node2\n",
    "Node2.left = Node3\n",
    "root.right = Node4\n",
    "a = Solution()\n",
    "a.insert(root,7)\n",
    "a.insert(root,6)\n",
    "a.insert(root,10)\n",
    "a.Tree_array(root)"
   ]
  },
  {
   "cell_type": "code",
   "execution_count": 3,
   "metadata": {},
   "outputs": [
    {
     "data": {
      "text/plain": [
       "[5, -5, 3, 3, 4, 6, 8, 10]"
      ]
     },
     "execution_count": 3,
     "metadata": {},
     "output_type": "execute_result"
    }
   ],
   "source": [
    "root = a.modify(root,7,4)\n",
    "a.Tree_array(root)"
   ]
  },
  {
   "cell_type": "code",
   "execution_count": 4,
   "metadata": {},
   "outputs": [
    {
     "name": "stdout",
     "output_type": "stream",
     "text": [
      "modify\n",
      "True\n",
      "True\n",
      "True\n",
      "True\n",
      "True\n",
      "True\n",
      "True\n",
      "True\n"
     ]
    }
   ],
   "source": [
    "print(\"modify\")\n",
    "print(root.val==5)\n",
    "print(root.left.val==-5)\n",
    "print(root.left.right.val==3)\n",
    "print(root.left.right.left.val==3)\n",
    "print(root.left.right.right.val==4)\n",
    "print(root.right.val==6)\n",
    "print(root.right.right.val==8)\n",
    "print(root.right.right.right.val==10)"
   ]
  },
  {
   "cell_type": "markdown",
   "metadata": {},
   "source": [
    "## modify 未完成"
   ]
  },
  {
   "cell_type": "code",
   "execution_count": 5,
   "metadata": {},
   "outputs": [],
   "source": [
    "# Definition for a binary tree node.\n",
    "class TreeNode(object):\n",
    "    def __init__(self,x):\n",
    "        self.val = x\n",
    "        self.left = None\n",
    "        self.right = None\n",
    "        \"\"\"\n",
    "        :type val: int\n",
    "        :type left: TreeNode or None\n",
    "        :type right: TreeNode or None\n",
    "        \"\"\"\n",
    "    def Printtree(self):\n",
    "        \n",
    "        if self.left:\n",
    "            self.left.Printtree()\n",
    "            \n",
    "        print(self.val),\n",
    "        \n",
    "        if self.right:\n",
    "            self.right.Printtree()\n",
    "            \n",
    "class Solution(object):\n",
    "    \n",
    "    def insert(self, root, val):\n",
    "        \"\"\"\n",
    "        :type root: TreeNode\n",
    "        :type val: int\n",
    "        :rtype: TreeNode(inserted node)\n",
    "        \"\"\"\n",
    "        data = TreeNode(val)\n",
    "        \n",
    "        if root.val:    #root.val 存在，往下走\n",
    "            if val <= root.val:\n",
    "                \n",
    "                if root.left is None:\n",
    "                    root.left = data\n",
    "                    return root.left            # 如果左邊的節點是空的，那麼把新的值放進去\n",
    "                else:\n",
    "                    return self.insert(root.left,val)   # 如果左邊目前是有值存在的話，再次呼叫insert，繼續往左邊走\n",
    "                \n",
    "            elif val > root.val:\n",
    "               \n",
    "                if root.right is None:    \n",
    "                    root.right = data\n",
    "                    return root.right\n",
    "                else:\n",
    "                    return self.insert(root.right,val)   # 同右邊寫法\n",
    "                \n",
    "    def delete(self, root, target):\n",
    "        \"\"\"\n",
    "        :type root: TreeNode\n",
    "        :type target: int\n",
    "        :rtype: TreeNode(the root of new completed binary search tree) (cannot search())\n",
    "        \"\"\"\n",
    "        \n",
    "        node = self.search(root,target)   #先找看看要刪除的數是否存在\n",
    "        parent = root    #需要一個會移動的parent，有點像哨兵\n",
    "        \n",
    "        if root == None:\n",
    "            return root      #如果沒有root回傳\n",
    "        if node:\n",
    "            if target < root.val:\n",
    "                root.left = self.delete(root.left,target)\n",
    "            elif target > root.val:\n",
    "                root.right = self.delete(root.right,target)\n",
    "                \n",
    "                #找target，在root左邊或右邊，找到了的話再次呼叫delete function，\n",
    "\n",
    "            else:\n",
    "\n",
    "                if root.left is None and root.right is None:\n",
    "                    \n",
    "                    root = None  \n",
    "                \n",
    "                # 0個小孩的情況，當左邊和右邊是空節點時，當下的root將會成為空值\n",
    "\n",
    "                elif root.left and (root.right is None):                    \n",
    "                    root = root.left\n",
    "                    self.delete(root,target)\n",
    "\n",
    "                elif (root.left is None) and root.right:\n",
    "                    root = root.right\n",
    "                    self.delete(root,target)\n",
    "                    \n",
    "                # 1個小孩的情況，若左邊或右邊只有一個節點是存在的話，會將新的root賜予給那位小孩，並看看他有沒有更多小孩，讓鏈接不會斷掉\n",
    "\n",
    "                elif root.left and root.right:\n",
    "\n",
    "                    parent = root\n",
    "                    successor = root.right\n",
    "\n",
    "                    while successor.left:\n",
    "                        parent = successor\n",
    "                        successor = successor.left\n",
    "\n",
    "                    root.val = successor.val\n",
    "\n",
    "                    if root == successor:\n",
    "                        parent.left = successor.right\n",
    "                    else:\n",
    "                        parent.right = successor.right\n",
    "                \n",
    "                # 2個小孩的情況有兩種方法，一種是看左邊（left subtree)，找出最大值（predecessor)；一種是看右邊（right subtree)，找出最小值（successor)\n",
    "                # 最後用parent和successor去走動，將right subtree中最左邊的最小值=successor，跟root交換，這時候parent會是successor的父節點，因為不能確定successor有沒有小孩，但是只會有一種情況：\n",
    "                # 右邊有小孩（因為如果左邊有小孩，那麼successor就不成立），當successor成為root時，他的小孩會接上parent<有點像是爸爸去上班，孩子給爺爺帶>\n",
    "                \n",
    "\n",
    "            return root\n",
    "\n",
    "    def search(self, root, target):\n",
    "        \"\"\"\n",
    "        :type root: TreeNode\n",
    "        :type target: int\n",
    "        :rtype: TreeNode(searched node)\n",
    "        \"\"\"\n",
    "        if target < root.val:\n",
    "            if root.left == None:\n",
    "                return None \n",
    "            return self.search(root.left,target)\n",
    "        \n",
    "        elif target > root.val:\n",
    "            if root.right == None:\n",
    "                return None\n",
    "            return self.search(root.right,target)\n",
    "        \n",
    "        else:\n",
    "            return root\n",
    "        \n",
    "        # 查詢target是否有在這個棵樹裡，沒有回傳None，有的話回傳root\n",
    "        \n",
    "##############################################################################################\n",
    "        \n",
    "    def modify(self, root, target, new_val):\n",
    "        \"\"\"\n",
    "        :type root: TreeNode\n",
    "        :type target: int\n",
    "        :type new_val: int\n",
    "        :rtype:TreeNode(the root of new completed binary search tree) (cannot search())\n",
    "        \"\"\"\n",
    "        node = self.search(root,target)\n",
    "        i = root\n",
    "        \n",
    "        while node != None:\n",
    "    \n",
    "            if target < root.val:\n",
    "                root.left = self.delete(root.left,target)\n",
    "            elif target > root.val:\n",
    "                root.right = self.delete(root.right,target)\n",
    "\n",
    "            else:\n",
    "\n",
    "                if root.left is None and root.right is None:\n",
    "                    \n",
    "                    root = None\n",
    "\n",
    "                elif root.left and (root.right is None):                    \n",
    "                    root = root.left\n",
    "                    self.delete(root,target)\n",
    "\n",
    "                elif (root.left is None) and root.right:\n",
    "                    root = root.right\n",
    "                    self.delete(root,target)\n",
    "\n",
    "                elif root.left and root.right:\n",
    "\n",
    "                    parent = root\n",
    "                    successor = root.right\n",
    "\n",
    "                    while successor.left:\n",
    "                        parent = successor\n",
    "                        successor = successor.left\n",
    "\n",
    "                    root.val = successor.val\n",
    "\n",
    "                    if root == successor:\n",
    "                        parent.left = successor.right\n",
    "                    else:\n",
    "                        parent.right = successor.right\n",
    "                \n",
    "            self.insert(i,new_val)\n",
    "            return i\n",
    "        \n",
    "        # modify我不太懂這個要怎麼做到修改後，樹高會小於等於之前的，所以我用的方法是先呼叫delete，將target刪除，再insert將new_val放入。\n",
    "        "
   ]
  },
  {
   "cell_type": "markdown",
   "metadata": {},
   "source": [
    "## 測資\n",
    "\n",
    "### 有寫一個printtree功能，可以看看測資出來的結果是否有成功"
   ]
  },
  {
   "cell_type": "code",
   "execution_count": 6,
   "metadata": {},
   "outputs": [
    {
     "data": {
      "text/plain": [
       "<__main__.TreeNode at 0x109b5ebe0>"
      ]
     },
     "execution_count": 6,
     "metadata": {},
     "output_type": "execute_result"
    }
   ],
   "source": [
    "root = TreeNode(5)\n",
    "Node1 = TreeNode(3)\n",
    "Node2 = TreeNode(3)\n",
    "Node3 = TreeNode(-5)\n",
    "Node4 = TreeNode(8) \n",
    "root.left = Node1\n",
    "Node1.left = Node2\n",
    "Node2.left = Node3\n",
    "root.right = Node4\n",
    "a = Solution()\n",
    "a.insert(root,7)\n",
    "a.insert(root,6)\n",
    "a.insert(root,10)"
   ]
  },
  {
   "cell_type": "markdown",
   "metadata": {},
   "source": [
    "## 刪除 Delete"
   ]
  },
  {
   "cell_type": "code",
   "execution_count": 7,
   "metadata": {},
   "outputs": [
    {
     "name": "stdout",
     "output_type": "stream",
     "text": [
      "-5\n",
      "3\n",
      "5\n",
      "6\n",
      "7\n",
      "8\n",
      "10\n"
     ]
    }
   ],
   "source": [
    "root = a.delete(root,3)\n",
    "root.Printtree()"
   ]
  },
  {
   "cell_type": "markdown",
   "metadata": {},
   "source": [
    "## 修改Modify"
   ]
  },
  {
   "cell_type": "code",
   "execution_count": 8,
   "metadata": {},
   "outputs": [
    {
     "name": "stdout",
     "output_type": "stream",
     "text": [
      "-5\n",
      "3\n",
      "5\n",
      "6\n",
      "8\n",
      "9\n",
      "10\n"
     ]
    }
   ],
   "source": [
    "a.modify(root,7,9)\n",
    "root.Printtree()"
   ]
  },
  {
   "cell_type": "markdown",
   "metadata": {},
   "source": [
    "## 下面是看看每個節點的指向是否正確"
   ]
  },
  {
   "cell_type": "code",
   "execution_count": 9,
   "metadata": {},
   "outputs": [
    {
     "data": {
      "text/plain": [
       "10"
      ]
     },
     "execution_count": 9,
     "metadata": {},
     "output_type": "execute_result"
    }
   ],
   "source": [
    "root.right.right.val"
   ]
  },
  {
   "cell_type": "code",
   "execution_count": 10,
   "metadata": {},
   "outputs": [
    {
     "data": {
      "text/plain": [
       "8"
      ]
     },
     "execution_count": 10,
     "metadata": {},
     "output_type": "execute_result"
    }
   ],
   "source": [
    "root.right.val"
   ]
  },
  {
   "cell_type": "code",
   "execution_count": 11,
   "metadata": {},
   "outputs": [
    {
     "data": {
      "text/plain": [
       "6"
      ]
     },
     "execution_count": 11,
     "metadata": {},
     "output_type": "execute_result"
    }
   ],
   "source": [
    "root.right.left.val"
   ]
  },
  {
   "cell_type": "code",
   "execution_count": 12,
   "metadata": {},
   "outputs": [
    {
     "ename": "AttributeError",
     "evalue": "'NoneType' object has no attribute 'val'",
     "output_type": "error",
     "traceback": [
      "\u001b[0;31m---------------------------------------------------------------------------\u001b[0m",
      "\u001b[0;31mAttributeError\u001b[0m                            Traceback (most recent call last)",
      "\u001b[0;32m<ipython-input-12-6bc11880ecd1>\u001b[0m in \u001b[0;36m<module>\u001b[0;34m\u001b[0m\n\u001b[0;32m----> 1\u001b[0;31m \u001b[0mroot\u001b[0m\u001b[0;34m.\u001b[0m\u001b[0mright\u001b[0m\u001b[0;34m.\u001b[0m\u001b[0mleft\u001b[0m\u001b[0;34m.\u001b[0m\u001b[0mleft\u001b[0m\u001b[0;34m.\u001b[0m\u001b[0mval\u001b[0m\u001b[0;34m\u001b[0m\u001b[0;34m\u001b[0m\u001b[0m\n\u001b[0m",
      "\u001b[0;31mAttributeError\u001b[0m: 'NoneType' object has no attribute 'val'"
     ]
    }
   ],
   "source": [
    "root.right.left.left.val"
   ]
  },
  {
   "cell_type": "code",
   "execution_count": 13,
   "metadata": {},
   "outputs": [
    {
     "data": {
      "text/plain": [
       "3"
      ]
     },
     "execution_count": 13,
     "metadata": {},
     "output_type": "execute_result"
    }
   ],
   "source": [
    "root.left.val"
   ]
  },
  {
   "cell_type": "code",
   "execution_count": 14,
   "metadata": {},
   "outputs": [
    {
     "data": {
      "text/plain": [
       "-5"
      ]
     },
     "execution_count": 14,
     "metadata": {},
     "output_type": "execute_result"
    }
   ],
   "source": [
    "root.left.left.val"
   ]
  },
  {
   "cell_type": "markdown",
   "metadata": {},
   "source": [
    "### 下面的意思是這個位置已經沒有node"
   ]
  },
  {
   "cell_type": "code",
   "execution_count": 15,
   "metadata": {
    "scrolled": true
   },
   "outputs": [
    {
     "ename": "AttributeError",
     "evalue": "'NoneType' object has no attribute 'val'",
     "output_type": "error",
     "traceback": [
      "\u001b[0;31m---------------------------------------------------------------------------\u001b[0m",
      "\u001b[0;31mAttributeError\u001b[0m                            Traceback (most recent call last)",
      "\u001b[0;32m<ipython-input-15-d7c24a8ae4a1>\u001b[0m in \u001b[0;36m<module>\u001b[0;34m\u001b[0m\n\u001b[0;32m----> 1\u001b[0;31m \u001b[0mroot\u001b[0m\u001b[0;34m.\u001b[0m\u001b[0mleft\u001b[0m\u001b[0;34m.\u001b[0m\u001b[0mleft\u001b[0m\u001b[0;34m.\u001b[0m\u001b[0mleft\u001b[0m\u001b[0;34m.\u001b[0m\u001b[0mval\u001b[0m\u001b[0;34m\u001b[0m\u001b[0;34m\u001b[0m\u001b[0m\n\u001b[0m",
      "\u001b[0;31mAttributeError\u001b[0m: 'NoneType' object has no attribute 'val'"
     ]
    }
   ],
   "source": [
    "root.left.left.left.val"
   ]
  },
  {
   "cell_type": "markdown",
   "metadata": {},
   "source": [
    "### 用查詢功能查看\"6\"是否真的在`root.right.left`位置上"
   ]
  },
  {
   "cell_type": "code",
   "execution_count": 17,
   "metadata": {},
   "outputs": [
    {
     "name": "stdout",
     "output_type": "stream",
     "text": [
      "True\n"
     ]
    }
   ],
   "source": [
    "print(a.search(root,6) == root.right.left)"
   ]
  },
  {
   "cell_type": "markdown",
   "metadata": {},
   "source": [
    "## 自學BST，寫在同一個class裡，比較好寫"
   ]
  },
  {
   "cell_type": "code",
   "execution_count": 18,
   "metadata": {},
   "outputs": [],
   "source": [
    "class MyBST(object):\n",
    "    \n",
    "    def __init__(self,val):\n",
    "        \n",
    "        self.rightkid = None\n",
    "        self.leftkid = None\n",
    "        self.val = val\n",
    "        \n",
    "    def PrintTree(self):\n",
    "            \n",
    "        if self.leftkid:\n",
    "            self.leftkid.PrintTree()\n",
    "        \n",
    "        print(self.val) \n",
    "        \n",
    "        if self.rightkid:\n",
    "            self.rightkid.PrintTree()\n",
    "        \n",
    "    def insert(self,root,val):\n",
    "        \n",
    "        if root.val:\n",
    "            \n",
    "            if val <= root.val:\n",
    "                \n",
    "                if root.leftkid is None:\n",
    "                    root.leftkid = MyBST(val)\n",
    "                else:\n",
    "                    root.leftkid.insert(root.leftkid,val)   \n",
    "                \n",
    "            elif val > self.val:\n",
    "               \n",
    "                if root.rightkid is None:\n",
    "                    root.rightkid = MyBST(val)\n",
    "                else:\n",
    "                    root.insert(root.rightkid,val) \n",
    "        \n",
    "    def search(self, root, target):\n",
    "        \n",
    "        if target < root.val:\n",
    "\n",
    "            if root.leftkid is None:\n",
    "                return None\n",
    "            return self.search(root.leftkid,target)\n",
    "\n",
    "        elif target > root.val:\n",
    "\n",
    "            if root.rightkid is None:\n",
    "                return None\n",
    "            return self.search(root.rightkid,target)\n",
    "\n",
    "        else:\n",
    "            return root\n",
    "\n",
    "    def delete(self, root, target):\n",
    "            \n",
    "        if root.val > target:\n",
    "            root.leftkid = self.delete(root.leftkid, target)\n",
    "\n",
    "        elif root.val < target:\n",
    "            root.rightkid = self.delete(root.rightkid, target)\n",
    "\n",
    "        else:\n",
    "            \n",
    "            if root.rightkid == None and root.leftkid == None:\n",
    "                \n",
    "                root = None\n",
    "\n",
    "            elif not root.rightkid:\n",
    "                \n",
    "                root = root.leftkid \n",
    "                self.delete(root,target)\n",
    "\n",
    "            elif not root.leftkid:\n",
    "                \n",
    "                root = root.rightkid \n",
    "                self.delete(root,target)\n",
    "\n",
    "            \n",
    "            elif root.rightkid and root.leftkid:\n",
    "                \n",
    "                global successor\n",
    "                parent = root\n",
    "                successor = root.rightkid\n",
    "            \n",
    "                while successor.leftkid:\n",
    "                    parent = successor\n",
    "                    successor = successor.leftkid\n",
    "                    \n",
    "\n",
    "                root.val = successor.val\n",
    "\n",
    "                if successor == root:\n",
    "                    parent.leftkid = root.rightkid\n",
    "                else:\n",
    "                    parent.rightkid = root.rightkid\n",
    "            \n",
    "        return root"
   ]
  },
  {
   "cell_type": "code",
   "execution_count": 19,
   "metadata": {},
   "outputs": [
    {
     "name": "stdout",
     "output_type": "stream",
     "text": [
      "-5\n",
      "-4\n",
      "5\n",
      "5\n",
      "6\n",
      "7\n",
      "10\n",
      "100\n"
     ]
    }
   ],
   "source": [
    "root = MyBST(6)\n",
    "Node1 = MyBST(10)\n",
    "Node2 = MyBST(5)\n",
    "Node3 = MyBST(-4)\n",
    "Node4 = MyBST(7) \n",
    "root.rightkid = Node1\n",
    "root.leftkid = Node2\n",
    "Node2.leftkid = Node3\n",
    "Node1.leftkid = Node4\n",
    "root.insert(root,5)\n",
    "root.insert(root,100)\n",
    "root.insert(root,-5)\n",
    "root.PrintTree()"
   ]
  },
  {
   "cell_type": "code",
   "execution_count": 20,
   "metadata": {},
   "outputs": [
    {
     "name": "stdout",
     "output_type": "stream",
     "text": [
      "True\n"
     ]
    }
   ],
   "source": [
    "print(root.search(root,100)==root.rightkid.rightkid)"
   ]
  },
  {
   "cell_type": "markdown",
   "metadata": {},
   "source": [
    "### 重複值被刪除"
   ]
  },
  {
   "cell_type": "code",
   "execution_count": 21,
   "metadata": {},
   "outputs": [
    {
     "name": "stdout",
     "output_type": "stream",
     "text": [
      "-5\n",
      "-4\n",
      "6\n",
      "7\n",
      "10\n",
      "100\n"
     ]
    }
   ],
   "source": [
    "root.delete(root,5)\n",
    "root.PrintTree()"
   ]
  },
  {
   "cell_type": "code",
   "execution_count": 22,
   "metadata": {},
   "outputs": [
    {
     "data": {
      "text/plain": [
       "-5"
      ]
     },
     "execution_count": 22,
     "metadata": {},
     "output_type": "execute_result"
    }
   ],
   "source": [
    "root.leftkid.leftkid.val"
   ]
  },
  {
   "cell_type": "markdown",
   "metadata": {},
   "source": [
    "### 下面的modify，是直接更換tree裡面的值，沒有排序，所以是錯的。"
   ]
  },
  {
   "cell_type": "code",
   "execution_count": 25,
   "metadata": {},
   "outputs": [
    {
     "ename": "IndentationError",
     "evalue": "unexpected indent (<ipython-input-25-74c272047454>, line 3)",
     "output_type": "error",
     "traceback": [
      "\u001b[0;36m  File \u001b[0;32m\"<ipython-input-25-74c272047454>\"\u001b[0;36m, line \u001b[0;32m3\u001b[0m\n\u001b[0;31m    node = root.search(target)\u001b[0m\n\u001b[0m    ^\u001b[0m\n\u001b[0;31mIndentationError\u001b[0m\u001b[0;31m:\u001b[0m unexpected indent\n"
     ]
    }
   ],
   "source": [
    "##def modify(root, target, new_val):\n",
    "    \n",
    "        node = root.search(target)\n",
    "        c = root.kids_count()\n",
    "        \n",
    "        if not root:\n",
    "            return root\n",
    "\n",
    "        while c>-1 :\n",
    "                    \n",
    "            if target < root.val:\n",
    "                \n",
    "                root = root.leftkid\n",
    "                \n",
    "            elif root.val == target:\n",
    "\n",
    "                    root.val = None\n",
    "                    root.val = new_val\n",
    "\n",
    "            elif target > root.val:\n",
    "\n",
    "                root = root.rightkid\n",
    "            \n",
    "            c-=1\n",
    "\n",
    "\n",
    "modify(root,7,88)\n",
    "root.PrintTree()"
   ]
  },
  {
   "cell_type": "markdown",
   "metadata": {},
   "source": [
    "## 利用數小孩的方式，去列出三種可能"
   ]
  },
  {
   "cell_type": "code",
   "execution_count": 26,
   "metadata": {},
   "outputs": [],
   "source": [
    "def kids_count(self):\n",
    "    \n",
    "    count = 0\n",
    "    if self.left:\n",
    "        count +=1\n",
    "        \n",
    "    if self.right:\n",
    "        count +=1\n",
    "    \n",
    "    return count\n",
    "\n",
    "def delete(self, root, target):\n",
    "    \n",
    "        kids_count = self.kids_count(root)\n",
    "        \n",
    "        if root == None:\n",
    "            root = TreeNode(val)\n",
    "            return root\n",
    "            \n",
    "        if target < root.val:\n",
    "            root.left = self.delete(root.left,target)\n",
    "        elif target > root.val:\n",
    "            root.right = self.delete(root.right,target)\n",
    "\n",
    "        else:\n",
    "            if kids_count == 0 :\n",
    "                root = None\n",
    "\n",
    "            elif kids_count == 1:\n",
    "\n",
    "                if root.right:\n",
    "                    root = root.right\n",
    "                    root,right = None\n",
    "                    self.delete(root,target)\n",
    "\n",
    "                elif root.left:\n",
    "                    root = root.left\n",
    "                    self.delete(root,target)\n",
    "\n",
    "            elif kids_count == 2:\n",
    "\n",
    "                successor = root.right\n",
    "\n",
    "                while successor.left:\n",
    "                    temp = successor\n",
    "                    successor = successor.left\n",
    "\n",
    "                root.val = successor.val\n",
    "\n",
    "                if root == successor:\n",
    "                    temp.left = successor.right\n",
    "                else:\n",
    "                    temp.right = successor.right\n",
    "                        \n",
    "        return root"
   ]
  },
  {
   "cell_type": "markdown",
   "metadata": {},
   "source": [
    "## BST原理\n",
    "🔗https://ivanzz1001.github.io/records/post/data-structure/2018/06/12/ds-binary-search-tree"
   ]
  },
  {
   "cell_type": "markdown",
   "metadata": {},
   "source": [
    "# BST流程圖"
   ]
  },
  {
   "cell_type": "markdown",
   "metadata": {},
   "source": [
    "## Insert\n",
    "![](https://i.imgur.com/qcpYu9m.png)"
   ]
  },
  {
   "cell_type": "markdown",
   "metadata": {},
   "source": [
    "## Search\n",
    "![](https://i.imgur.com/eLlTsTh.png)"
   ]
  },
  {
   "cell_type": "markdown",
   "metadata": {},
   "source": [
    "## Delete\n",
    "![](https://i.imgur.com/moHObCm.png)"
   ]
  },
  {
   "cell_type": "markdown",
   "metadata": {},
   "source": [
    "## Modify\n",
    "![](https://i.imgur.com/cDZUPOP.png)"
   ]
  },
  {
   "cell_type": "markdown",
   "metadata": {},
   "source": [
    "## Reading\n",
    "### class繼承父類別\n",
    "🔗https://python3-cookbook.readthedocs.io/zh_CN/latest/c08/p07_calling_method_on_parent_class.html  \n",
    "### univaltree\n",
    "🔗http://www.voidcn.com/article/p-vjkmrbla-zo.html"
   ]
  },
  {
   "cell_type": "code",
   "execution_count": 40,
   "metadata": {},
   "outputs": [],
   "source": [
    "class MyBST():\n",
    "        \n",
    "    def __init__(self):\n",
    "        \n",
    "        MyTreeNode.__init__(self,val)"
   ]
  },
  {
   "cell_type": "code",
   "execution_count": null,
   "metadata": {},
   "outputs": [],
   "source": [
    "def is_val_count(self,root):\n",
    "        \n",
    "        if root == None:\n",
    "            return True \n",
    "        if root.left == None and root.right == None:\n",
    "            root.count += 1\n",
    "            return True\n",
    "        left = self.is_val_count(root.left)\n",
    "        right = self.is_val_count(root.right)\n",
    "        if left and right and (root.left == None or root.left.val == root.val) and (root.right == None or root.right.val == root.val):\n",
    "            root.count += 1\n",
    "            return True\n",
    "        else:\n",
    "            return False\n",
    "\n",
    "def treecount(self,root):\n",
    "        \n",
    "    self.is_val_count(root)\n",
    "    return root.count "
   ]
  }
 ],
 "metadata": {
  "kernelspec": {
   "display_name": "Python 3",
   "language": "python",
   "name": "python3"
  },
  "language_info": {
   "codemirror_mode": {
    "name": "ipython",
    "version": 3
   },
   "file_extension": ".py",
   "mimetype": "text/x-python",
   "name": "python",
   "nbconvert_exporter": "python",
   "pygments_lexer": "ipython3",
   "version": "3.6.9"
  }
 },
 "nbformat": 4,
 "nbformat_minor": 2
}
