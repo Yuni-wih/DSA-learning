{
 "cells": [
  {
   "cell_type": "markdown",
   "metadata": {},
   "source": [
    "### Binary Search Tree\n",
    "\n",
    "1.若任意節點的leftkid is not None，則leftkid.val<root.val；  \n",
    "\n",
    "2.若任意節點的rightkid is not None，則rightkid.val<root.val；  \n",
    "\n",
    "3.任意節點的左、右子樹也分別為二元搜尋樹；  \n",
    "\n",
    "4.沒有`val`相等的節點。  \n",
    "\n",
    "\n",
    "🔗https://www.tutorialspoint.com/python_data_structure/python_binary_search_tree.htm  \n",
    "\n",
    "🔗[Binary Search Tree: Intro(簡介)](http://alrightchiu.github.io/SecondRound/binary-search-tree-introjian-jie.html)  \n",
    "\n",
    "🔗https://www.laurentluce.com/posts/binary-search-tree-library-in-python/  \n",
    "\n",
    "🔗\n",
    "http://alrightchiu.github.io/SecondRound/binary-search-tree-sortpai-xu-deleteshan-chu-zi-liao.html"
   ]
  },
  {
   "cell_type": "code",
   "execution_count": 1,
   "metadata": {},
   "outputs": [],
   "source": [
    "# Definition for a binary tree node.\n",
    "class TreeNode(object):\n",
    "    def __init__(self,x):\n",
    "        self.val = x\n",
    "        self.left = None\n",
    "        self.right = None\n",
    "        \"\"\"\n",
    "        :type val: int\n",
    "        :type left: TreeNode or None\n",
    "        :type right: TreeNode or None\n",
    "        \"\"\"\n",
    "    def Printtree(self):\n",
    "        \n",
    "        if self.left:\n",
    "            self.left.Printtree()\n",
    "            \n",
    "        print(self.val),\n",
    "        \n",
    "        if self.right:\n",
    "            self.right.Printtree()\n",
    "            \n",
    "class Solution(object):\n",
    "    \n",
    "    def insert(self, root, val):\n",
    "        \"\"\"\n",
    "        :type root: TreeNode\n",
    "        :type val: int\n",
    "        :rtype: TreeNode(inserted node)\n",
    "        \"\"\"\n",
    "        data = TreeNode(val)\n",
    "        \n",
    "        if root.val:    #root.val 存在，往下走\n",
    "            if val <= root.val:\n",
    "                \n",
    "                if root.left is None:\n",
    "                    root.left = data\n",
    "                    return root.left            # if leftkid is empty, fill it\n",
    "                else:\n",
    "                    return self.insert(root.left,val)   # if leftkid has a val, again the function\n",
    "                \n",
    "            elif val > root.val:\n",
    "               \n",
    "                if root.right is None:    # same as leftkid\n",
    "                    root.right = data\n",
    "                    return root.right\n",
    "                else:\n",
    "                    return self.insert(root.right,val)\n",
    "                \n",
    "    def delete(self, root, target):\n",
    "        \"\"\"\n",
    "        :type root: TreeNode\n",
    "        :type target: int\n",
    "        :rtype: TreeNode(the root of new completed binary search tree) (cannot search())\n",
    "        \"\"\"\n",
    "        \n",
    "        node = self.search(root,target)\n",
    "        parent = root\n",
    "        \n",
    "        if root == None:\n",
    "            return root\n",
    "        if node:\n",
    "            if target < root.val:\n",
    "                root.left = self.delete(root.left,target)\n",
    "            elif target > root.val:\n",
    "                root.right = self.delete(root.right,target)\n",
    "\n",
    "            else:\n",
    "\n",
    "                if root.left is None and root.right is None:\n",
    "                    \n",
    "                    root = None\n",
    "\n",
    "                elif root.left and (root.right is None):                    \n",
    "                    root = root.left\n",
    "                    self.delete(root,target)\n",
    "\n",
    "                elif (root.left is None) and root.right:\n",
    "                    root = root.right\n",
    "                    self.delete(root,target)\n",
    "\n",
    "                elif root.left and root.right:\n",
    "\n",
    "                    parent = root\n",
    "                    successor = root.right\n",
    "\n",
    "                    while successor.left:\n",
    "                        parent = successor\n",
    "                        successor = successor.left\n",
    "\n",
    "                    root.val = successor.val\n",
    "\n",
    "                    if root == successor:\n",
    "                        parent.left = successor.right\n",
    "                    else:\n",
    "                        parent.right = successor.right\n",
    "            return root\n",
    "\n",
    "    def search(self, root, target):\n",
    "        \"\"\"\n",
    "        :type root: TreeNode\n",
    "        :type target: int\n",
    "        :rtype: TreeNode(searched node)\n",
    "        \"\"\"\n",
    "        if target < root.val:\n",
    "            if root.left == None:\n",
    "                return None \n",
    "            return self.search(root.left,target)\n",
    "        \n",
    "        elif target > root.val:\n",
    "            if root.right == None:\n",
    "                return None\n",
    "            return self.search(root.right,target)\n",
    "        \n",
    "        else:\n",
    "            return root\n",
    "        \n",
    "    def count(self):\n",
    "    \n",
    "        count = 0\n",
    "        if root.left:\n",
    "            count +=1\n",
    "\n",
    "        if root.right:\n",
    "            count +=1\n",
    "\n",
    "        return count\n",
    "    \n",
    "    def modify(self, root, target, new_val):\n",
    "        \"\"\"\n",
    "        :type root: TreeNode\n",
    "        :type target: int\n",
    "        :type new_val: int\n",
    "        :rtype:TreeNode(the root of new completed binary search tree) (cannot search())\n",
    "        \"\"\"\n",
    "        node = self.search(root,target)\n",
    "        cnt = self.count()\n",
    "        \n",
    "        if not root:\n",
    "            return root\n",
    "\n",
    "        while cnt>-1 :\n",
    "                    \n",
    "            if target < root.val:\n",
    "                \n",
    "                root = root.left\n",
    "                \n",
    "            elif root.val == target:\n",
    "\n",
    "                    root.val = None\n",
    "                    root.val = new_val\n",
    "\n",
    "            elif target > root.val:\n",
    "\n",
    "                root = root.right\n",
    "            \n",
    "            cnt-=1\n",
    "        \n",
    "            \n",
    "        return root"
   ]
  },
  {
   "cell_type": "code",
   "execution_count": 2,
   "metadata": {},
   "outputs": [
    {
     "data": {
      "text/plain": [
       "<__main__.TreeNode at 0x1076e7ac8>"
      ]
     },
     "execution_count": 2,
     "metadata": {},
     "output_type": "execute_result"
    }
   ],
   "source": [
    "root = TreeNode(5)\n",
    "Node1 = TreeNode(3)\n",
    "Node2 = TreeNode(3)\n",
    "Node3 = TreeNode(-5)\n",
    "Node4 = TreeNode(8) \n",
    "root.left = Node1\n",
    "Node1.left = Node2\n",
    "Node2.left = Node3\n",
    "root.right = Node4\n",
    "a = Solution()\n",
    "a.insert(root,7)\n",
    "a.insert(root,6)\n",
    "a.insert(root,10)"
   ]
  },
  {
   "cell_type": "code",
   "execution_count": 3,
   "metadata": {},
   "outputs": [
    {
     "name": "stdout",
     "output_type": "stream",
     "text": [
      "-5\n",
      "3\n",
      "5\n",
      "6\n",
      "7\n",
      "8\n",
      "10\n"
     ]
    }
   ],
   "source": [
    "a.delete(root,3)\n",
    "root.Printtree()"
   ]
  },
  {
   "cell_type": "code",
   "execution_count": 4,
   "metadata": {},
   "outputs": [
    {
     "name": "stdout",
     "output_type": "stream",
     "text": [
      "-5\n",
      "3\n",
      "5\n",
      "6\n",
      "17\n",
      "8\n",
      "10\n"
     ]
    }
   ],
   "source": [
    "a.modify(root,7,17)\n",
    "root.Printtree()"
   ]
  },
  {
   "cell_type": "code",
   "execution_count": 5,
   "metadata": {},
   "outputs": [
    {
     "data": {
      "text/plain": [
       "10"
      ]
     },
     "execution_count": 5,
     "metadata": {},
     "output_type": "execute_result"
    }
   ],
   "source": [
    "root.right.right.val"
   ]
  },
  {
   "cell_type": "code",
   "execution_count": 6,
   "metadata": {},
   "outputs": [
    {
     "data": {
      "text/plain": [
       "8"
      ]
     },
     "execution_count": 6,
     "metadata": {},
     "output_type": "execute_result"
    }
   ],
   "source": [
    "root.right.val"
   ]
  },
  {
   "cell_type": "code",
   "execution_count": 7,
   "metadata": {},
   "outputs": [
    {
     "data": {
      "text/plain": [
       "17"
      ]
     },
     "execution_count": 7,
     "metadata": {},
     "output_type": "execute_result"
    }
   ],
   "source": [
    "root.right.left.val"
   ]
  },
  {
   "cell_type": "code",
   "execution_count": 8,
   "metadata": {},
   "outputs": [
    {
     "data": {
      "text/plain": [
       "6"
      ]
     },
     "execution_count": 8,
     "metadata": {},
     "output_type": "execute_result"
    }
   ],
   "source": [
    "root.right.left.left.val"
   ]
  },
  {
   "cell_type": "code",
   "execution_count": 9,
   "metadata": {},
   "outputs": [
    {
     "data": {
      "text/plain": [
       "3"
      ]
     },
     "execution_count": 9,
     "metadata": {},
     "output_type": "execute_result"
    }
   ],
   "source": [
    "root.left.val"
   ]
  },
  {
   "cell_type": "code",
   "execution_count": 10,
   "metadata": {},
   "outputs": [
    {
     "data": {
      "text/plain": [
       "-5"
      ]
     },
     "execution_count": 10,
     "metadata": {},
     "output_type": "execute_result"
    }
   ],
   "source": [
    "root.left.left.val"
   ]
  },
  {
   "cell_type": "markdown",
   "metadata": {},
   "source": [
    "### 下面的意思是這個位置已經沒有node"
   ]
  },
  {
   "cell_type": "code",
   "execution_count": 11,
   "metadata": {},
   "outputs": [
    {
     "ename": "AttributeError",
     "evalue": "'NoneType' object has no attribute 'val'",
     "output_type": "error",
     "traceback": [
      "\u001b[0;31m---------------------------------------------------------------------------\u001b[0m",
      "\u001b[0;31mAttributeError\u001b[0m                            Traceback (most recent call last)",
      "\u001b[0;32m<ipython-input-11-d7c24a8ae4a1>\u001b[0m in \u001b[0;36m<module>\u001b[0;34m\u001b[0m\n\u001b[0;32m----> 1\u001b[0;31m \u001b[0mroot\u001b[0m\u001b[0;34m.\u001b[0m\u001b[0mleft\u001b[0m\u001b[0;34m.\u001b[0m\u001b[0mleft\u001b[0m\u001b[0;34m.\u001b[0m\u001b[0mleft\u001b[0m\u001b[0;34m.\u001b[0m\u001b[0mval\u001b[0m\u001b[0;34m\u001b[0m\u001b[0;34m\u001b[0m\u001b[0m\n\u001b[0m",
      "\u001b[0;31mAttributeError\u001b[0m: 'NoneType' object has no attribute 'val'"
     ]
    }
   ],
   "source": [
    "root.left.left.left.val"
   ]
  },
  {
   "cell_type": "code",
   "execution_count": 13,
   "metadata": {},
   "outputs": [
    {
     "name": "stdout",
     "output_type": "stream",
     "text": [
      "True\n"
     ]
    }
   ],
   "source": [
    "print(a.search(root,6) == root.right.left.left)"
   ]
  },
  {
   "cell_type": "markdown",
   "metadata": {},
   "source": [
    "## 自學BST，寫在同一個class裡，比較好寫"
   ]
  },
  {
   "cell_type": "code",
   "execution_count": 14,
   "metadata": {},
   "outputs": [],
   "source": [
    "class MyBST(object):\n",
    "    \n",
    "    def __init__(self,val):\n",
    "        \n",
    "        self.rightkid = None\n",
    "        self.leftkid = None\n",
    "        self.val = val\n",
    "        \n",
    "    def PrintTree(self):\n",
    "            \n",
    "        if self.leftkid:\n",
    "            self.leftkid.PrintTree()\n",
    "        \n",
    "        print(self.val) \n",
    "        \n",
    "        if self.rightkid:\n",
    "            self.rightkid.PrintTree()\n",
    "        \n",
    "    def insert(self, val):\n",
    "        \n",
    "        if self.val:\n",
    "            \n",
    "            if val <= self.val:\n",
    "                \n",
    "                if self.leftkid is None:\n",
    "                    self.leftkid = MyBST(val)\n",
    "                else:\n",
    "                    self.leftkid.insert(val)   \n",
    "                \n",
    "            elif val > self.val:\n",
    "               \n",
    "                if self.rightkid is None:\n",
    "                    self.rightkid = MyBST(val)\n",
    "                else:\n",
    "                    self.rightkid.insert(val) \n",
    "        \n",
    "    def search(self, root, target):\n",
    "        \n",
    "        if target < root.val:\n",
    "\n",
    "            if root.leftkid is None:\n",
    "                return None\n",
    "            return self.search(root.leftkid,target)\n",
    "\n",
    "        elif target > root.val:\n",
    "\n",
    "            if root.rightkid is None:\n",
    "                return None\n",
    "            return self.search(root.rightkid,target)\n",
    "\n",
    "        else:\n",
    "            return root\n",
    "    \n",
    "    def kids_count(self):\n",
    "    \n",
    "        count = 0\n",
    "        if self.leftkid:\n",
    "            count +=1\n",
    "\n",
    "        if self.rightkid:\n",
    "            count +=1\n",
    "\n",
    "        return count\n",
    "\n",
    "    def delete(self, root, target):\n",
    "            \n",
    "        if root.val > target:\n",
    "            root.leftkid = self.delete(root.leftkid, target)\n",
    "\n",
    "        elif root.val < target:\n",
    "            root.rightkid = self.delete(root.rightkid, target)\n",
    "\n",
    "        else:\n",
    "\n",
    "            if not root.rightkid:\n",
    "                return root.leftkid\n",
    "            if not root.leftkid:\n",
    "                return root.rightkid\n",
    "\n",
    "            temp = root.rightkid\n",
    "            min_val = temp.val\n",
    "            while temp.leftkid:\n",
    "                temp = temp.leftkid\n",
    "                min_val = temp.val\n",
    "\n",
    "            root.val = min_val\n",
    "\n",
    "            root.rightkid =self.delete(root.rightkid, root.val)\n",
    "            \n",
    "        return root\n",
    "    \n",
    "    def modify(self, root, target, new_val):\n",
    "    \n",
    "        node = self.search(target)\n",
    "\n",
    "        if not root:\n",
    "            return root\n",
    "\n",
    "        if node is not None:\n",
    "                    \n",
    "            if target < self.val:\n",
    "                \n",
    "                if self.leftkid.val == target:\n",
    "\n",
    "                    node.val = None\n",
    "                    node.val = new_val\n",
    "                    \n",
    "                return self.leftkid.search(target)\n",
    "\n",
    "            elif target > self.val:\n",
    "\n",
    "                if self.rightkid.val == target:\n",
    "\n",
    "                    node.val = None\n",
    "                    node.val = new_val\n",
    "                    \n",
    "                return self.rightkid.search(target)\n",
    "\n"
   ]
  },
  {
   "cell_type": "code",
   "execution_count": 32,
   "metadata": {},
   "outputs": [
    {
     "name": "stdout",
     "output_type": "stream",
     "text": [
      "-5\n",
      "-4\n",
      "5\n",
      "5\n",
      "6\n",
      "7\n",
      "10\n",
      "100\n",
      "True\n",
      "-5\n",
      "-4\n",
      "5\n",
      "6\n",
      "7\n",
      "10\n",
      "100\n"
     ]
    }
   ],
   "source": [
    "root = MyBST(6)\n",
    "Node1 = MyBST(10)\n",
    "Node2 = MyBST(5)\n",
    "Node3 = MyBST(-4)\n",
    "Node4 = MyBST(7) \n",
    "root.rightkid = Node1\n",
    "root.leftkid = Node2\n",
    "Node2.leftkid = Node3\n",
    "Node1.leftkid = Node4\n",
    "root.insert(5)\n",
    "root.insert(100)\n",
    "root.insert(-5)\n",
    "root.PrintTree()\n",
    "\n",
    "\n",
    "print(root.search(root,100)==root.rightkid.rightkid)\n",
    "\n",
    "\n",
    "root.delete(root,5)\n",
    "root.PrintTree()\n"
   ]
  },
  {
   "cell_type": "code",
   "execution_count": 9,
   "metadata": {},
   "outputs": [
    {
     "data": {
      "text/plain": [
       "-5"
      ]
     },
     "execution_count": 9,
     "metadata": {},
     "output_type": "execute_result"
    }
   ],
   "source": [
    "root.leftkid.leftkid.val"
   ]
  },
  {
   "cell_type": "markdown",
   "metadata": {},
   "source": [
    "### 下面的modify，是直接更換tree裡面的值，沒有排序，所以是錯的。"
   ]
  },
  {
   "cell_type": "code",
   "execution_count": 5,
   "metadata": {},
   "outputs": [
    {
     "name": "stdout",
     "output_type": "stream",
     "text": [
      "-5\n",
      "-4\n",
      "5\n",
      "5\n",
      "6\n",
      "88\n",
      "10\n",
      "100\n"
     ]
    }
   ],
   "source": [
    "##def modify(root, target, new_val):\n",
    "    \n",
    "        node = root.search(target)\n",
    "        c = root.kids_count()\n",
    "        \n",
    "        if not root:\n",
    "            return root\n",
    "\n",
    "        while c>-1 :\n",
    "                    \n",
    "            if target < root.val:\n",
    "                \n",
    "                root = root.leftkid\n",
    "                \n",
    "            elif root.val == target:\n",
    "\n",
    "                    root.val = None\n",
    "                    root.val = new_val\n",
    "\n",
    "            elif target > root.val:\n",
    "\n",
    "                root = root.rightkid\n",
    "            \n",
    "            c-=1\n",
    "\n",
    "\n",
    "modify(root,7,88)\n",
    "root.PrintTree()"
   ]
  },
  {
   "cell_type": "code",
   "execution_count": 33,
   "metadata": {},
   "outputs": [],
   "source": [
    "def kids_count(self):\n",
    "    \n",
    "    count = 0\n",
    "    if self.left:\n",
    "        count +=1\n",
    "        \n",
    "    if self.right:\n",
    "        count +=1\n",
    "    \n",
    "    return count\n",
    "\n",
    "def delete(self, root, target):\n",
    "    \n",
    "        kids_count = self.kids_count(root)\n",
    "        \n",
    "        if root == None:\n",
    "            root = TreeNode(val)\n",
    "            return root\n",
    "            \n",
    "        if target < root.val:\n",
    "            root.left = self.delete(root.left,target)\n",
    "        elif target > root.val:\n",
    "            root.right = self.delete(root.right,target)\n",
    "\n",
    "        else:\n",
    "            if kids_count == 0 :\n",
    "                root = None\n",
    "\n",
    "            elif kids_count == 1:\n",
    "\n",
    "                if root.right:\n",
    "                    root = root.right\n",
    "                    root,right = None\n",
    "                    self.delete(root,target)\n",
    "\n",
    "                elif root.left:\n",
    "                    root = root.left\n",
    "                    self.delete(root,target)\n",
    "\n",
    "            elif kids_count == 2:\n",
    "\n",
    "                successor = root.right\n",
    "\n",
    "                while successor.left:\n",
    "                    temp = successor\n",
    "                    successor = successor.left\n",
    "\n",
    "                root.val = successor.val\n",
    "\n",
    "                if root == successor:\n",
    "                    temp.left = successor.right\n",
    "                else:\n",
    "                    temp.right = successor.right\n",
    "                        \n",
    "        return root"
   ]
  },
  {
   "cell_type": "markdown",
   "metadata": {},
   "source": [
    "## BST原理\n",
    "🔗https://ivanzz1001.github.io/records/post/data-structure/2018/06/12/ds-binary-search-tree"
   ]
  },
  {
   "cell_type": "markdown",
   "metadata": {},
   "source": [
    "### BST流程圖"
   ]
  },
  {
   "cell_type": "markdown",
   "metadata": {},
   "source": [
    "![](https://i.imgur.com/0FFQMuz.jpg)\n",
    "![](https://i.imgur.com/SKkSWS5.jpg)\n",
    "![](https://i.imgur.com/dyZCevv.jpg)"
   ]
  },
  {
   "cell_type": "markdown",
   "metadata": {},
   "source": [
    "## Reading\n",
    "### class繼承父類別\n",
    "🔗https://python3-cookbook.readthedocs.io/zh_CN/latest/c08/p07_calling_method_on_parent_class.html  \n",
    "### univaltree\n",
    "🔗http://www.voidcn.com/article/p-vjkmrbla-zo.html"
   ]
  },
  {
   "cell_type": "code",
   "execution_count": 40,
   "metadata": {},
   "outputs": [],
   "source": [
    "class MyBST():\n",
    "        \n",
    "    def __init__(self):\n",
    "        \n",
    "        MyTreeNode.__init__(self,val)"
   ]
  },
  {
   "cell_type": "code",
   "execution_count": null,
   "metadata": {},
   "outputs": [],
   "source": [
    "def is_val_count(self,root):\n",
    "        \n",
    "        if root == None:\n",
    "            return True \n",
    "        if root.left == None and root.right == None:\n",
    "            root.count += 1\n",
    "            return True\n",
    "        left = self.is_val_count(root.left)\n",
    "        right = self.is_val_count(root.right)\n",
    "        if left and right and (root.left == None or root.left.val == root.val) and (root.right == None or root.right.val == root.val):\n",
    "            root.count += 1\n",
    "            return True\n",
    "        else:\n",
    "            return False\n",
    "\n",
    "def treecount(self,root):\n",
    "        \n",
    "    self.is_val_count(root)\n",
    "    return root.count "
   ]
  }
 ],
 "metadata": {
  "kernelspec": {
   "display_name": "Python 3",
   "language": "python",
   "name": "python3"
  },
  "language_info": {
   "codemirror_mode": {
    "name": "ipython",
    "version": 3
   },
   "file_extension": ".py",
   "mimetype": "text/x-python",
   "name": "python",
   "nbconvert_exporter": "python",
   "pygments_lexer": "ipython3",
   "version": "3.6.9"
  }
 },
 "nbformat": 4,
 "nbformat_minor": 2
}
