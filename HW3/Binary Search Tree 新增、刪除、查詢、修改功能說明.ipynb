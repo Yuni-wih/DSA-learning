{
 "cells": [
  {
   "cell_type": "markdown",
   "metadata": {},
   "source": [
    "# Binary Search Tree (BST)  \n",
    "\n",
    "\n",
    "#### 新增(insert):將節點(node)插入Tree裡，比root小的child放左邊，比root大的child放右邊  \n",
    "\n",
    "#### 刪除(delete):將目標節點(node)踢出Tree，刪除的節點會形成三種情況：  \n",
    "* case1:沒有child  \n",
    "直接將要刪除的node設為none  \n",
    "\n",
    "* case2:只有一個child  \n",
    "將child與要刪除的node的parent相連  \n",
    "\n",
    "* case3:有兩個child  \n",
    "有兩種方法，若是往`root.left`=>(Predecessor)找，要找左邊的最大值`root.left.right`;若是往`root.right`=(Successor)找，要找右邊的最小值`root.right.left`。若是Predecessor(root.left.right)或Successor(root.right.left)有另一個同伴`root.left.left` or `root.right.right`要將他們放在Predecessor或Successor原本的位置。  \n",
    "\n",
    "* Successor找的是「right subtree中Key最小的node」；\n",
    "* Predecessor找的是「left subtree中Key最大的node」；\n",
    "\n",
    "\n",
    "#### 查詢(search):搜尋目標節點是否存在在這棵Tree   \n",
    "\n",
    "#### 修改(modify):將target_node刪除，放入新的node_new_val   \n",
    "\n",
    "\n",
    "\n",
    "\n",
    "\n",
    "https://ivanzz1001.github.io/records/post/data-structure/2018/06/12/ds-binary-search-tree"
   ]
  }
 ],
 "metadata": {
  "kernelspec": {
   "display_name": "Python 3",
   "language": "python",
   "name": "python3"
  },
  "language_info": {
   "codemirror_mode": {
    "name": "ipython",
    "version": 3
   },
   "file_extension": ".py",
   "mimetype": "text/x-python",
   "name": "python",
   "nbconvert_exporter": "python",
   "pygments_lexer": "ipython3",
   "version": "3.6.9"
  }
 },
 "nbformat": 4,
 "nbformat_minor": 2
}
