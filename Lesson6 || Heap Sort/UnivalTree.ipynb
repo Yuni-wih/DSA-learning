{
 "cells": [
  {
   "cell_type": "markdown",
   "metadata": {},
   "source": [
    "# UnivalTree 是為了看這棵樹裡面node的值是不是都是一樣的，都一樣 return ture ; 有不一樣的則return False"
   ]
  },
  {
   "cell_type": "code",
   "execution_count": 1,
   "metadata": {},
   "outputs": [],
   "source": [
    "class TreeNode():\n",
    "    \n",
    "    def __init__(self,val):\n",
    "        \n",
    "        self.left = None\n",
    "        self.right = None\n",
    "        self.val = val"
   ]
  },
  {
   "cell_type": "code",
   "execution_count": 2,
   "metadata": {},
   "outputs": [],
   "source": [
    "class Solution(object):\n",
    "    \n",
    "    def isUnivalTree(self, root):\n",
    "        vals = []\n",
    "\n",
    "        def dfs(node):\n",
    "            if node:\n",
    "                vals.append(node.val)\n",
    "                dfs(node.left)\n",
    "                dfs(node.right)\n",
    "\n",
    "        dfs(root)\n",
    "        return len(set(vals)) == 1"
   ]
  },
  {
   "cell_type": "code",
   "execution_count": 3,
   "metadata": {},
   "outputs": [],
   "source": [
    "root1 = TreeNode(5)\n",
    "node1 = TreeNode(5)\n",
    "node2 = TreeNode(5)\n",
    "node3 = TreeNode(5)\n",
    "node4 = TreeNode(5)\n",
    "\n",
    "root1.left = node1\n",
    "root1.right = node2\n",
    "node1.left = node3\n",
    "node1.right = node4"
   ]
  },
  {
   "cell_type": "code",
   "execution_count": 4,
   "metadata": {},
   "outputs": [],
   "source": [
    "a = Solution()"
   ]
  },
  {
   "cell_type": "code",
   "execution_count": 5,
   "metadata": {},
   "outputs": [
    {
     "data": {
      "text/plain": [
       "True"
      ]
     },
     "execution_count": 5,
     "metadata": {},
     "output_type": "execute_result"
    }
   ],
   "source": [
    "a.isUnivalTree(root1)"
   ]
  },
  {
   "cell_type": "code",
   "execution_count": 6,
   "metadata": {},
   "outputs": [],
   "source": [
    "root2 = TreeNode(5)\n",
    "node1 = TreeNode(5)\n",
    "node2 = TreeNode(4)\n",
    "node3 = TreeNode(5)\n",
    "node4 = TreeNode(5)\n",
    "\n",
    "root2.left = node1\n",
    "root2.right = node2\n",
    "node1.left = node3\n",
    "node1.right = node4"
   ]
  },
  {
   "cell_type": "code",
   "execution_count": 7,
   "metadata": {},
   "outputs": [
    {
     "data": {
      "text/plain": [
       "False"
      ]
     },
     "execution_count": 7,
     "metadata": {},
     "output_type": "execute_result"
    }
   ],
   "source": [
    "a.isUnivalTree(root2)"
   ]
  },
  {
   "cell_type": "code",
   "execution_count": 8,
   "metadata": {},
   "outputs": [],
   "source": [
    "root3 = TreeNode(5)\n",
    "node1 = TreeNode(5)\n",
    "node2 = TreeNode(5)\n",
    "node3 = TreeNode(5)\n",
    "\n",
    "root3.left = node1\n",
    "root3.right = node2\n",
    "node1.left = node3\n",
    "node1.right = None"
   ]
  },
  {
   "cell_type": "code",
   "execution_count": 9,
   "metadata": {},
   "outputs": [
    {
     "data": {
      "text/plain": [
       "True"
      ]
     },
     "execution_count": 9,
     "metadata": {},
     "output_type": "execute_result"
    }
   ],
   "source": [
    "a.isUnivalTree(root3)"
   ]
  }
 ],
 "metadata": {
  "kernelspec": {
   "display_name": "Python 3",
   "language": "python",
   "name": "python3"
  },
  "language_info": {
   "codemirror_mode": {
    "name": "ipython",
    "version": 3
   },
   "file_extension": ".py",
   "mimetype": "text/x-python",
   "name": "python",
   "nbconvert_exporter": "python",
   "pygments_lexer": "ipython3",
   "version": "3.6.9"
  }
 },
 "nbformat": 4,
 "nbformat_minor": 2
}
