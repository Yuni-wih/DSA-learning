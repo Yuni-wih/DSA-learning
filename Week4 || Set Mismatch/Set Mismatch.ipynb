{
 "cells": [
  {
   "cell_type": "code",
   "execution_count": 20,
   "metadata": {},
   "outputs": [],
   "source": [
    "class Solution:\n",
    "    def findErrorNums(self, nums):\n",
    "        \"\"\"\n",
    "        :type nums:List[int]\n",
    "        :rtype:List[int]\n",
    "        \"\"\"\n",
    "        holder=[0]*len(nums)\n",
    "        repeated_num = 0\n",
    "        \n",
    "        for i in range(0, len(nums)):\n",
    "            if holder[nums[i]-1]!=0:\n",
    "                repeated_num=nums[i]\n",
    "            holder[nums[i]-1]=nums[i]\n",
    "        return [repeated_num, holder.index(0)+1]"
   ]
  },
  {
   "cell_type": "code",
   "execution_count": null,
   "metadata": {},
   "outputs": [],
   "source": []
  }
 ],
 "metadata": {
  "kernelspec": {
   "display_name": "Python 3",
   "language": "python",
   "name": "python3"
  },
  "language_info": {
   "codemirror_mode": {
    "name": "ipython",
    "version": 3
   },
   "file_extension": ".py",
   "mimetype": "text/x-python",
   "name": "python",
   "nbconvert_exporter": "python",
   "pygments_lexer": "ipython3",
   "version": "3.6.4"
  }
 },
 "nbformat": 4,
 "nbformat_minor": 2
}
