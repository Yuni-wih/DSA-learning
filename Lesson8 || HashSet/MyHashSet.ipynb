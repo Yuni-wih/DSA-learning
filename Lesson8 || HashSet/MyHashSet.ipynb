{
 "cells": [
  {
   "cell_type": "markdown",
   "metadata": {},
   "source": [
    "# MyHashSet  \n",
    "  \n",
    "  \n",
    "* 這題因為是為了測True or False，所以先將array設有100000個False（偷吃步的概念？！）\n",
    "* add : 有key的位置為true\n",
    "* remove : 有key的位置為False\n",
    "* contains : 回傳key的位置True or False\n",
    "\n",
    ">Reference  \n",
    ">🔗[【LeetCode】705. Design HashSet 解题报告（Python）](https://blog.csdn.net/fuxuemingzhu/article/details/81016992)"
   ]
  },
  {
   "cell_type": "code",
   "execution_count": null,
   "metadata": {},
   "outputs": [],
   "source": [
    "class MyHashSet:\n",
    "\n",
    "    def __init__(self):\n",
    "        \"\"\"\n",
    "        Initialize your data structure here.\n",
    "        \"\"\"\n",
    "        self.arr = [False]*100000\n",
    "\n",
    "    def add(self, key: int) -> None:\n",
    "        \n",
    "        self.arr[key] = True\n",
    "        \n",
    "\n",
    "    def remove(self, key: int) -> None:\n",
    "        \n",
    "        self.arr[key] = False\n",
    "    def contains(self, key: int) -> bool:\n",
    "        \"\"\"\n",
    "        Returns true if this set contains the specified element\n",
    "        \"\"\"\n",
    "        \n",
    "        return self.arr[key]"
   ]
  },
  {
   "cell_type": "code",
   "execution_count": 9,
   "metadata": {},
   "outputs": [
    {
     "data": {
      "text/plain": [
       "False"
      ]
     },
     "execution_count": 9,
     "metadata": {},
     "output_type": "execute_result"
    }
   ],
   "source": [
    "# Your MyHashSet object will be instantiated and called as such:\n",
    "obj = MyHashSet()\n",
    "obj.add(6)\n",
    "obj.add(9)\n",
    "obj.remove(6)\n",
    "obj.contains(6)"
   ]
  },
  {
   "cell_type": "code",
   "execution_count": 10,
   "metadata": {},
   "outputs": [
    {
     "data": {
      "text/plain": [
       "True"
      ]
     },
     "execution_count": 10,
     "metadata": {},
     "output_type": "execute_result"
    }
   ],
   "source": [
    "obj.contains(9)"
   ]
  }
 ],
 "metadata": {
  "kernelspec": {
   "display_name": "Python 3",
   "language": "python",
   "name": "python3"
  },
  "language_info": {
   "codemirror_mode": {
    "name": "ipython",
    "version": 3
   },
   "file_extension": ".py",
   "mimetype": "text/x-python",
   "name": "python",
   "nbconvert_exporter": "python",
   "pygments_lexer": "ipython3",
   "version": "3.6.9"
  }
 },
 "nbformat": 4,
 "nbformat_minor": 2
}
