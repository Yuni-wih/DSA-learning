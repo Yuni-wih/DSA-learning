{
 "cells": [
  {
   "cell_type": "markdown",
   "metadata": {},
   "source": [
    "# BFS & DFS\n",
    "\n",
    "* BFS`寬度優先搜尋`：有點像梯田，每一層都是一個Level，同level的值都已走訪過才會走下一等level。\n",
    "* DFS`深度優先搜尋`：分為遞歸和非遞歸，非遞歸就是使用`stack`(first-in-last-out)的方式，將`stack` pop移出，所以每次走訪的深度是以最後走的那個點的深度為優先；遞歸模式`recursive`(呼叫自身函式)則是以先走訪到的節點的深度為優先。EX: 非遞歸`stack` start(2)->0->1，先將1的list或是子節點跑完，在研究新的stack裡最後放置（最外圍、上面）的值。遞歸`recursive` start(2)->0->1，則是會先將0的list或是子節點跑完，再去考慮1的list或是子節點。\n",
    "* BFS & DFS 比較：  \n",
    "    * DFS用遞歸的形式，用到了棧結構，先進后出。\n",
    "    * BFS選取狀態用隊列的形式，先進先出。  \n",
    "    * 兩者的時間複雜度大體一致，不同的地方在於走訪的方式及問題解決出發點不同，DFS適合目標明確，BFS適合大範圍尋找\n",
    "* defaultdict:  \n",
    "    1.統計一個list裡每個元素出現的個數  \n",
    "    2.建立一個一對多的multidict\n",
    "\n",
    "\n",
    ">Reference  \n",
    ">🔗[Python 3 collections.defaultdict() 与 dict的使用和区别](https://www.cnblogs.com/herbert/archive/2013/01/09/2852843.html)  \n",
    ">🔗[python中defaultdict的用法详解](https://www.jb51.net/article/115578.htm)  \n",
    ">🔗[collections雜談之一 ——— dict的key值存不存在乾我屁事](https://ithelp.ithome.com.tw/articles/10193094)   \n",
    ">🔗[python中的list如何进行相减操作或者将list分片](https://blog.csdn.net/suofiya2008/article/details/5591591)  \n",
    ">🔗[Python实现图的DFS（递归和非递归）和BFS](https://blog.csdn.net/weixin_40314737/article/details/80893507)  \n",
    ">🔗[搜索思想——DFS & BFS（基础基础篇）](https://zhuanlan.zhihu.com/p/24986203)"
   ]
  },
  {
   "cell_type": "code",
   "execution_count": 1,
   "metadata": {},
   "outputs": [],
   "source": [
    "# Python3 Program to print BFS traversal \n",
    "# from a given source vertex. BFS(int s) \n",
    "# traverses vertices reachable from s. \n",
    "from collections import defaultdict        "
   ]
  },
  {
   "cell_type": "code",
   "execution_count": 2,
   "metadata": {},
   "outputs": [
    {
     "name": "stdout",
     "output_type": "stream",
     "text": [
      "defaultdict(<class 'list'>, {'red': [1, 3, 1], 'blue': [2, 4, 4]})\n"
     ]
    }
   ],
   "source": [
    "s = [('red', 1), ('blue', 2), ('red', 3), ('blue', 4), ('red', 1), ('blue', 4)]\n",
    "d = defaultdict(list)\n",
    "\n",
    "for k, v in s:\n",
    "    d[k].append(v)\n",
    "    \n",
    "print(d)"
   ]
  },
  {
   "cell_type": "code",
   "execution_count": 3,
   "metadata": {},
   "outputs": [
    {
     "name": "stdout",
     "output_type": "stream",
     "text": [
      "defaultdict(<class 'set'>, {'red': {1, 3}, 'blue': {2, 4}})\n"
     ]
    }
   ],
   "source": [
    "s = [('red', 1), ('blue', 2), ('red', 3), ('blue', 4), ('red', 1), ('blue', 4)]\n",
    "d = defaultdict(set)\n",
    "\n",
    "for k, v in s:\n",
    "    d[k].add(v)\n",
    "    \n",
    "print(d)"
   ]
  },
  {
   "cell_type": "code",
   "execution_count": 4,
   "metadata": {},
   "outputs": [
    {
     "name": "stdout",
     "output_type": "stream",
     "text": [
      "defaultdict(<class 'int'>, {'m': 1, 'i': 4, 's': 4, 'p': 2})\n"
     ]
    }
   ],
   "source": [
    "s = 'mississippi'\n",
    "d = defaultdict(int)\n",
    "for k in s:\n",
    "    d[k] += 1\n",
    "print(d)"
   ]
  },
  {
   "cell_type": "markdown",
   "metadata": {},
   "source": [
    "### CODE1 _遞歸方式"
   ]
  },
  {
   "cell_type": "code",
   "execution_count": 5,
   "metadata": {},
   "outputs": [],
   "source": [
    "# This class represents a directed graph \n",
    "# using adjacency list representation \n",
    "class Graph:\n",
    "    # Constructor \n",
    "    def __init__(self): \n",
    "        # default dictionary to store graph \n",
    "        self.graph = defaultdict(list) \n",
    "\n",
    "    # function to add an edge to graph \n",
    "    def addEdge(self,u,v): \n",
    "        self.graph[u].append(v) \n",
    "  \n",
    "    # Function to print a BFS of graph \n",
    "    def BFS(self, s): \n",
    "        \"\"\"\n",
    "        :type s: int\n",
    "        :rtype: list\n",
    "        \"\"\"\n",
    "        queue = []\n",
    "        color = [False]*(len(self.graph)) #設[False]*self.graph的長度\n",
    "        \n",
    "        queue.append(s)  #先將起點s放進queue[]\n",
    "        color[s] = True  #color裡的數代表那個值已經走訪過，走訪過的值變為True\n",
    "        \n",
    "        while queue:         #當queue == True，move on\n",
    "            s = queue.pop(0) #將queue->`stack`裡最後放進的值pop出\n",
    "            print(s)\n",
    "            \n",
    "            for i in self.graph[s]:    #設一個for迴圈\n",
    "                if color[i] == False:  #如果color裡的ｉ位置為被走訪過，move on\n",
    "                    queue.append(i)    #將i放進queue[] \n",
    "                    color[i] = True    #所以color裡的i位置就會變為True\n",
    "                \n",
    "    def DFS(self, s):\n",
    "        \"\"\"\n",
    "        :type s: int\n",
    "        :rtype: list\n",
    "        \"\"\"\n",
    "        color = [False]*(len(self.graph))  #設[False]*self.graph的長度\n",
    "        \n",
    "        #設一個新的def，以遞歸的方式呼叫\n",
    "        def dfs(s):\n",
    "            color[s] = True  #放入dfs(s)裡的s位置會變成True      \n",
    "            print(s)\n",
    "            for j in self.graph[s]:    #設一個for迴圈\n",
    "                if color[j] == False:  #如果color裡j的位置的值是False\n",
    "                    dfs(j)             #呼叫dfs(j)，這樣就會把color中的j的位置變成True\n",
    "        dfs(s) #呼叫dfs(s)\n",
    "        return"
   ]
  },
  {
   "cell_type": "code",
   "execution_count": 6,
   "metadata": {},
   "outputs": [
    {
     "name": "stdout",
     "output_type": "stream",
     "text": [
      "2\n",
      "0\n",
      "3\n",
      "1\n",
      "None\n",
      "2\n",
      "0\n",
      "1\n",
      "3\n",
      "None\n"
     ]
    }
   ],
   "source": [
    "g = Graph() \n",
    "g.addEdge(0, 1) \n",
    "g.addEdge(0, 2) \n",
    "g.addEdge(1, 2) \n",
    "g.addEdge(2, 0) \n",
    "g.addEdge(2, 3) \n",
    "g.addEdge(3, 3) \n",
    "\n",
    "print(g.BFS(2))\n",
    "print(g.DFS(2))"
   ]
  },
  {
   "cell_type": "code",
   "execution_count": 7,
   "metadata": {},
   "outputs": [
    {
     "name": "stdout",
     "output_type": "stream",
     "text": [
      "[1, 2]\n",
      "[2]\n",
      "[0, 3]\n",
      "[3]\n"
     ]
    }
   ],
   "source": [
    "print(g.graph[0])\n",
    "print(g.graph[1])\n",
    "print(g.graph[2])\n",
    "print(g.graph[3])"
   ]
  },
  {
   "cell_type": "markdown",
   "metadata": {},
   "source": [
    "### CODE2 _非遞歸方式"
   ]
  },
  {
   "cell_type": "code",
   "execution_count": 8,
   "metadata": {},
   "outputs": [],
   "source": [
    "from collections import defaultdict     \n",
    "class Graph:\n",
    "\n",
    "    def __init__(self): \n",
    "        \n",
    "        self.graph = defaultdict(list) \n",
    "    \n",
    "    def addEdge(self,u,v): \n",
    "        \n",
    "        self.graph[u].append(v) \n",
    "            \n",
    "    def BFS(self, s): \n",
    "        \"\"\"\n",
    "        :type s: int\n",
    "        :rtype: list\n",
    "        \"\"\"\n",
    "        color = []      \n",
    "        #color = set()  #設color為一個set()\n",
    "        queue = [s]     #queue為一個已有起點s的list\n",
    "        #res = [s]      #設一個已有起點s的list，好把已完成走訪的值放入\n",
    "        print(\"BFS\")\n",
    "        while queue:\n",
    "            top = queue.pop(0) #將queue裡的值pop出為top\n",
    "            \n",
    "            if top not in color:\n",
    "                color.append(top) \n",
    "                #color.add(top)\n",
    "                #color因為是set()，不是list()，所以使用add將top加入\n",
    "                queue.extend(set(self.graph[top]) - set(color))\n",
    "                #將self.graph[top]以set()的方式呈現，在減掉color後（兩者的差集），將並未走訪過的值放進queue裡\n",
    "                #res.extend(set(self.graph[top]) - color)\n",
    "                #因為set會讓數字自動由小到大排列，所以無法return color取得bfs，所以設一個res[s]\n",
    "                #將即將要走訪的值以extend的方式放進res\n",
    "        return color\n",
    "\n",
    "    def DFS(self, s):\n",
    "        \"\"\"\n",
    "        :type s: int\n",
    "        :rtype: list\n",
    "        \"\"\"\n",
    "        color = list() #設color為一個list()\n",
    "        queue = [s]    #queue為一個已有起點s的list\n",
    "        print(\"DFS\")\n",
    "        #設一個新的def，以遞歸的方式呼叫\n",
    "        def dfs(s):\n",
    "            \n",
    "            if queue:  #如果queue == True，move on\n",
    "                top = queue.pop() #將queue的最上層的值pop移出\n",
    "\n",
    "                if top not in color:   #若是top這個值並未被放入color裡，move on\n",
    "                    color.append(top)  #top append進color\n",
    "                    i = queue.extend(set(self.graph[top]) - set(color)) \n",
    "                    #將self.graph[top]以set()的方式呈現，在減掉set(color)後，將並未走訪過的值放進queue裡\n",
    "                    #print(set(self.graph[top]) - set(color))\n",
    "                    dfs(i) #呼叫dfs(i)，此步驟是為了持續執行，while迴圈\n",
    "                    \n",
    "        dfs(s)  #呼叫dfs(s)\n",
    "        return color"
   ]
  },
  {
   "cell_type": "code",
   "execution_count": 9,
   "metadata": {},
   "outputs": [
    {
     "name": "stdout",
     "output_type": "stream",
     "text": [
      "BFS\n",
      "[2, 0, 3, 1]\n",
      "DFS\n",
      "[2, 3, 0, 1]\n"
     ]
    }
   ],
   "source": [
    "g = Graph() \n",
    "g.addEdge(0, 1) \n",
    "g.addEdge(0, 2) \n",
    "g.addEdge(1, 2) \n",
    "g.addEdge(2, 0) \n",
    "g.addEdge(2, 3) \n",
    "g.addEdge(3, 3) \n",
    "\n",
    "print(g.BFS(2))\n",
    "print(g.DFS(2))"
   ]
  },
  {
   "cell_type": "code",
   "execution_count": 10,
   "metadata": {},
   "outputs": [
    {
     "name": "stdout",
     "output_type": "stream",
     "text": [
      "BFS\n",
      "[2, 0, 3, 1, 4, 5, 6]\n",
      "DFS\n",
      "[2, 3, 4, 6, 5, 0, 1]\n"
     ]
    }
   ],
   "source": [
    "g = Graph() \n",
    "g.addEdge(0, 1) \n",
    "g.addEdge(0, 2) \n",
    "g.addEdge(1, 2) \n",
    "g.addEdge(2, 0) \n",
    "g.addEdge(2, 3) \n",
    "g.addEdge(3, 4) \n",
    "g.addEdge(4, 5)\n",
    "g.addEdge(4, 6)\n",
    "g.addEdge(5, 3)\n",
    "g.addEdge(6, 6)\n",
    "\n",
    "print(g.BFS(2))\n",
    "print(g.DFS(2))"
   ]
  },
  {
   "cell_type": "markdown",
   "metadata": {},
   "source": [
    "### BFS_Code3"
   ]
  },
  {
   "cell_type": "code",
   "execution_count": 11,
   "metadata": {},
   "outputs": [],
   "source": [
    "def BFS(self, s): \n",
    "    \n",
    "    color = set()  #設color為一個set()\n",
    "    queue = [s]     #queue為一個已有起點s的list\n",
    "    res = [s]      #設一個已有起點s的list，好把已完成走訪的值放入\n",
    "    \n",
    "    while queue:\n",
    "        top = queue.pop(0) #將queue裡的值pop出為top\n",
    "\n",
    "        if top not in color:\n",
    "\n",
    "            color.add(top)\n",
    "            #color因為是set()，不是list()，所以使用add將top加入\n",
    "            queue.extend(set(self.graph[top]) - color)\n",
    "            #將self.graph[top]以set()的方式呈現，在減掉color後（兩者的差集），將並未走訪過的值放進queue裡\n",
    "            res.extend(set(self.graph[top]) - color)\n",
    "            #因為set會讓數字自動由小到大排列，所以無法return color取得bfs，所以設一個res[s]\n",
    "            #將即將要走訪的值以extend的方式放進res\n",
    "    return res"
   ]
  },
  {
   "cell_type": "markdown",
   "metadata": {},
   "source": [
    "### BFS_Code4"
   ]
  },
  {
   "cell_type": "code",
   "execution_count": 12,
   "metadata": {},
   "outputs": [],
   "source": [
    "def BFS(self, s): \n",
    "\n",
    "    color = set()   #設color為一個set()\n",
    "    queue = [s]     #queue為一個已有起點s的list\n",
    "    res = [] \n",
    "    def bfs(s):\n",
    "        if queue:\n",
    "            top = queue.pop(0) #pop index0\n",
    "            res.append(top)    #將queue裡的最底層數，append至新的res[]\n",
    "\n",
    "            if top not in color:\n",
    "                color.add(top) \n",
    "                k = queue.extend(set(self.graph[top]) - color)\n",
    "                bfs(k)\n",
    "    bfs(s)\n",
    "    return res"
   ]
  },
  {
   "cell_type": "markdown",
   "metadata": {},
   "source": [
    "### BFS & DFS流程圖\n",
    "![](https://i.imgur.com/SkYNqbc.png)\n",
    "![](https://i.imgur.com/DZo7Xjn.png)"
   ]
  }
 ],
 "metadata": {
  "kernelspec": {
   "display_name": "Python 3",
   "language": "python",
   "name": "python3"
  },
  "language_info": {
   "codemirror_mode": {
    "name": "ipython",
    "version": 3
   },
   "file_extension": ".py",
   "mimetype": "text/x-python",
   "name": "python",
   "nbconvert_exporter": "python",
   "pygments_lexer": "ipython3",
   "version": "3.6.9"
  }
 },
 "nbformat": 4,
 "nbformat_minor": 2
}
