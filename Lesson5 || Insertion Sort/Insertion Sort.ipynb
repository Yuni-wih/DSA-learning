{
 "cells": [
  {
   "cell_type": "markdown",
   "metadata": {},
   "source": [
    "# Insertion Sort\n",
    "\n",
    "* 按照下面的打法，是以Node為主，將Linked List排序\n"
   ]
  },
  {
   "cell_type": "code",
   "execution_count": 1,
   "metadata": {},
   "outputs": [],
   "source": [
    "class ListNode:\n",
    "     def __init__(self, x):\n",
    "        self.val = x\n",
    "        self.next = None\n",
    "\n",
    "class Solution:\n",
    "    \n",
    "    def insertionSortList(self, head: ListNode)-> ListNode:\n",
    "\n",
    "        if not head or not head.next : \n",
    "            return head\n",
    "        out = head\n",
    "        head = head.next\n",
    "        tail = out\n",
    "        \n",
    "        while head:\n",
    "            temp = head\n",
    "            head = head.next\n",
    "            if temp.val <= out.val:\n",
    "                temp.next = out\n",
    "                out = temp\n",
    "            elif temp.val > tail.val:\n",
    "                tail.next = temp\n",
    "                tail = temp\n",
    "            else:\n",
    "                it = out \n",
    "                while it.next != tail.val and it.next.val < temp.val:\n",
    "                    it = it.next\n",
    "                temp.next = it.next\n",
    "                it.next = temp\n",
    "        tail.next = None\n",
    "        \n",
    "        return out    "
   ]
  },
  {
   "cell_type": "code",
   "execution_count": 2,
   "metadata": {},
   "outputs": [
    {
     "name": "stdout",
     "output_type": "stream",
     "text": [
      "<__main__.ListNode object at 0x1039797f0>\n",
      "<__main__.ListNode object at 0x103979748>\n",
      "<__main__.ListNode object at 0x103979860>\n",
      "<__main__.ListNode object at 0x1039798d0>\n"
     ]
    }
   ],
   "source": [
    "node= ListNode(1)\n",
    "node1= ListNode(4)\n",
    "node2= ListNode(3)\n",
    "node3= ListNode(2)\n",
    "\n",
    "node.next = node1\n",
    "node1.next = node2\n",
    "node2.next = node3\n",
    "node3.next = None\n",
    "\n",
    "\n",
    "print(node)\n",
    "print(node1)\n",
    "print(node2)\n",
    "print(node3)"
   ]
  },
  {
   "cell_type": "code",
   "execution_count": 3,
   "metadata": {},
   "outputs": [],
   "source": [
    "a = Solution()"
   ]
  },
  {
   "cell_type": "code",
   "execution_count": 4,
   "metadata": {
    "scrolled": true
   },
   "outputs": [
    {
     "data": {
      "text/plain": [
       "<__main__.ListNode at 0x1039798d0>"
      ]
     },
     "execution_count": 4,
     "metadata": {},
     "output_type": "execute_result"
    }
   ],
   "source": [
    "a.insertionSortList(node1)"
   ]
  },
  {
   "cell_type": "code",
   "execution_count": 8,
   "metadata": {},
   "outputs": [
    {
     "name": "stdout",
     "output_type": "stream",
     "text": [
      "<__main__.ListNode object at 0x103979748>\n",
      "<__main__.ListNode object at 0x103979860>\n",
      "<__main__.ListNode object at 0x1039798d0>\n"
     ]
    }
   ],
   "source": [
    "print(a.insertionSortList(node1))\n",
    "print(a.insertionSortList(node2))\n",
    "print(a.insertionSortList(node3))"
   ]
  },
  {
   "cell_type": "code",
   "execution_count": 6,
   "metadata": {},
   "outputs": [],
   "source": [
    "def insertion_sort(array):\n",
    "    \n",
    "    i =0\n",
    "    for i in range (0,len(array)):\n",
    "        key = array[i]\n",
    "    \n",
    "        j = i-1\n",
    "        while j>=0 and key < array[j]:\n",
    "            array[j+1] = array[j]\n",
    "            j-=1\n",
    "        \n",
    "        array[j+1] = key\n",
    "    \n",
    "    return array\n",
    "            "
   ]
  },
  {
   "cell_type": "code",
   "execution_count": 7,
   "metadata": {},
   "outputs": [
    {
     "data": {
      "text/plain": [
       "[1, 2, 3, 4, 5]"
      ]
     },
     "execution_count": 7,
     "metadata": {},
     "output_type": "execute_result"
    }
   ],
   "source": [
    "array = [4,3,1,5,2]\n",
    "insertion_sort(array)"
   ]
  },
  {
   "cell_type": "code",
   "execution_count": null,
   "metadata": {},
   "outputs": [],
   "source": []
  }
 ],
 "metadata": {
  "kernelspec": {
   "display_name": "Python 3",
   "language": "python",
   "name": "python3"
  },
  "language_info": {
   "codemirror_mode": {
    "name": "ipython",
    "version": 3
   },
   "file_extension": ".py",
   "mimetype": "text/x-python",
   "name": "python",
   "nbconvert_exporter": "python",
   "pygments_lexer": "ipython3",
   "version": "3.6.9"
  }
 },
 "nbformat": 4,
 "nbformat_minor": 2
}
