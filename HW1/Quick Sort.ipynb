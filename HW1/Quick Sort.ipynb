{
 "cells": [
  {
   "cell_type": "markdown",
   "metadata": {},
   "source": [
    "# Quick Sort\n",
    "\n",
    "## 1.能快速排列一個陣列裡的元素\n",
    " \n",
    "## 2.使用二分法 ，將陣列分成 [ <pivot, pivot, >pivot ]  \n",
    "\n",
    "## 3.再以QuickSort用遞迴(recursion)的方式，將左右兩邊的數列拆的越來越小\n",
    "\n",
    "> Step 1：定義partition函數，先分區，將i設定為位於-1的元素 `index(-1)`  ，同時他的左邊是<pivot，右邊是>pivot。\n",
    "\n",
    "> Step 2：設一個for迴圈，讓j可以從（最左邊的數）走到（最右邊的數-1）  \n",
    "\n",
    "> Step 3：如果陣列中j位置的元素小於最右邊的數（因為最右邊的數不會在迴圈裡，所以就把它設定為pivot)，那麼i會前進一個位置，且index(i)和index(j)需要交換index(i)會被放在左邊，當for迴圈跑完後，index(i+1)和index(right)交換，這樣就能達到pivot把比它大、比它小的數隔開，這個函數最後會回傳pivot的值。  \n",
    "\n",
    "> Step 4：定義Quicksort函數，如果左邊<右邊，找出pivot進行分區，以二分法分支下去，最終達到沒有元素是left>right\n",
    "\n",
    "🔗[Comparison Sort: Quick Sort(快速排序法)](http://alrightchiu.github.io/SecondRound/comparison-sort-quick-sortkuai-su-pai-xu-fa.html)\n"
   ]
  },
  {
   "cell_type": "code",
   "execution_count": 5,
   "metadata": {},
   "outputs": [],
   "source": [
    "def partition(array, left, right):\n",
    "    i = left-1\n",
    "    for j in range (left, right):\n",
    "        if array[j] <= array[right]:\n",
    "            i +=1\n",
    "            array[j] , array[i] = array[i] ,  array[j]\n",
    "    array[i+1],array[right] = array[right] , array[i+1]\n",
    "    return i+1 \n",
    "\n",
    "def quicksort (array, left, right):\n",
    "    \n",
    "    if left < right:\n",
    "        pivot = partition(array, left, right)\n",
    "        quicksort (array, left, pivot-1)\n",
    "        quicksort (array, pivot+1, right)"
   ]
  },
  {
   "cell_type": "code",
   "execution_count": 6,
   "metadata": {},
   "outputs": [
    {
     "name": "stdout",
     "output_type": "stream",
     "text": [
      "6\n",
      "2\n",
      "2\n",
      "2\n",
      "[0, 1, 2, 3, 4, 5, 6, 7]\n"
     ]
    }
   ],
   "source": [
    "array = [5,6,7,2,3,4,1,0]\n",
    "quicksort(array, 0, 7)\n",
    "print(array)"
   ]
  },
  {
   "cell_type": "markdown",
   "metadata": {},
   "source": [
    "![](https://i.imgur.com/M8p8brT.jpg)"
   ]
  },
  {
   "cell_type": "markdown",
   "metadata": {},
   "source": [
    "### 下面是以.append()的方式去將list裡的元素與pivot比較，進而放入 larger[] & smaller[] & mid[] 的list裡面，最後再以Quicksort()函式，持續呼叫自己的函式，再將三者相加。"
   ]
  },
  {
   "cell_type": "code",
   "execution_count": 26,
   "metadata": {},
   "outputs": [],
   "source": [
    "def Quicksort(list):\n",
    "    smaller = []\n",
    "    larger = []\n",
    "    mid = []\n",
    "    \n",
    "    if len(list)<=1:\n",
    "        return list\n",
    "    else:\n",
    "        pivot = list[0]\n",
    "        for i in list:\n",
    "            if i < pivot:\n",
    "                smaller.append(i)\n",
    "            elif i > pivot:\n",
    "                larger.append(i)\n",
    "            else:\n",
    "                mid.append(pivot)\n",
    "            \n",
    "    larger = Quicksort(larger)\n",
    "    smaller = Quicksort(smaller)\n",
    "    return (smaller + mid + larger)\n",
    "        "
   ]
  },
  {
   "cell_type": "code",
   "execution_count": 33,
   "metadata": {},
   "outputs": [
    {
     "data": {
      "text/plain": [
       "[0, 1, 2, 3, 4, 5, 6, 7]"
      ]
     },
     "execution_count": 33,
     "metadata": {},
     "output_type": "execute_result"
    }
   ],
   "source": [
    "A = [5,6,7,2,3,4,1,0]\n",
    "Quicksort(A)"
   ]
  }
 ],
 "metadata": {
  "kernelspec": {
   "display_name": "Python 3",
   "language": "python",
   "name": "python3"
  },
  "language_info": {
   "codemirror_mode": {
    "name": "ipython",
    "version": 3
   },
   "file_extension": ".py",
   "mimetype": "text/x-python",
   "name": "python",
   "nbconvert_exporter": "python",
   "pygments_lexer": "ipython3",
   "version": "3.6.9"
  }
 },
 "nbformat": 4,
 "nbformat_minor": 2
}
