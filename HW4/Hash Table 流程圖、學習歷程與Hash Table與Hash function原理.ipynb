{
 "cells": [
  {
   "cell_type": "markdown",
   "metadata": {},
   "source": [
    "# Hash Table\n",
    "\n",
    "* 一個資料庫裡就像是一個層櫃`table`，每一層之間都是互相獨立的空間，而我們將字串以HashMD5轉換成一串16進位的整數  \n",
    "* 要怎麼將它分類呢？以取餘數的方式判定這個data會被放在哪一層櫃子`index`裡\n",
    "* 但是一定會有`collision`的時候，代表有兩個data的餘數是一樣的，那這樣放進這層櫃子的話，data就會打架\n",
    "* 為了解決這個問題，因此在每層抽屜裡，以鏈表(linked list）的方式去放入data\n",
    "* 這樣的話就能實現O(1)的時間複雜度  \n",
    "* array數組尋址容易、插入刪除困難，linkedlist鏈表尋址困難、插入刪除簡單，而Hash Table 可以實現兩者結合的優點：查詢、插入、刪除都簡單\n",
    "\n",
    "![](https://i.imgur.com/yYNFE6X.png)  \n",
    "\n",
    "# Hash Function 散列函數\n",
    "* 又稱「哈希」函數\n",
    "* 電子商務很常用到，為了雙重加密中的「消息摘要」\n",
    "* 將不等長的資料轉換成為128位的編碼\n",
    "* 我的hash table是以hash function裡的除法散列法 `index = int(code.hexdigest(),16) % capacity`\n",
    "* 優點就是非常快，缺點則是`table`(capacity)要慎選\n",
    "![](https://i.imgur.com/sF9KjCb.png)\n",
    "\n",
    ">Reference  \n",
    ">🔗[Hash Table：Intro(簡介)](http://alrightchiu.github.io/SecondRound/hash-tableintrojian-jie.html)  \n",
    ">🔗[據說，80%的人都搞不懂哈希算法](https://kknews.cc/tech/jj2egxe.html)  \n",
    ">🔗[十一、从头到尾解析Hash表算法](https://blog.csdn.net/v_JULY_v/article/details/6256463)"
   ]
  },
  {
   "cell_type": "code",
   "execution_count": null,
   "metadata": {},
   "outputs": [],
   "source": [
    "#pip install crypto"
   ]
  },
  {
   "cell_type": "code",
   "execution_count": 1,
   "metadata": {},
   "outputs": [],
   "source": [
    "from Crypto.Hash import MD5"
   ]
  },
  {
   "cell_type": "markdown",
   "metadata": {},
   "source": [
    "### 定義MD5.new()"
   ]
  },
  {
   "cell_type": "code",
   "execution_count": 2,
   "metadata": {},
   "outputs": [],
   "source": [
    "h = MD5.new()"
   ]
  },
  {
   "cell_type": "markdown",
   "metadata": {},
   "source": [
    "### 轉成MD5"
   ]
  },
  {
   "cell_type": "code",
   "execution_count": 3,
   "metadata": {},
   "outputs": [
    {
     "name": "stdout",
     "output_type": "stream",
     "text": [
      "35cbe4ab5217190e0ec4d508e6d41f0b\n"
     ]
    }
   ],
   "source": [
    "h.update(\"I am Yuni\".encode(\"utf-8\"))\n",
    "print (h.hexdigest())"
   ]
  },
  {
   "cell_type": "markdown",
   "metadata": {},
   "source": [
    "### 轉成16進位"
   ]
  },
  {
   "cell_type": "code",
   "execution_count": 4,
   "metadata": {},
   "outputs": [
    {
     "data": {
      "text/plain": [
       "71507758001694228210233983944688410379"
      ]
     },
     "execution_count": 4,
     "metadata": {},
     "output_type": "execute_result"
    }
   ],
   "source": [
    "h = MD5.new(\"I am Yuni\".encode(\"utf-8\"))\n",
    "int(h.hexdigest(),16)"
   ]
  },
  {
   "cell_type": "code",
   "execution_count": 5,
   "metadata": {},
   "outputs": [],
   "source": [
    "from Crypto.Hash import MD5\n",
    "\n",
    "class ListNode:\n",
    "    def __init__(self,val):\n",
    "        \n",
    "        self.val = val\n",
    "        self.next = None\n",
    "        \n",
    "class MyHashSet:\n",
    "    \n",
    "    def __init__(self, capacity=5):\n",
    "        \"\"\"\n",
    "        :type capacity: int\n",
    "        :rtype: None\n",
    "        \"\"\"\n",
    "        self.capacity = capacity      #定義抽屜（有幾個table）\n",
    "        self.data = [None] * capacity #整張桌子有幾個抽屜，一開始所有抽屜裡面都是None\n",
    "        \n",
    "        #capacity = 5，self.data = [None],[None],[None],[None],[None]\n",
    "        #self.data[index] -> if index = 0 ->會是第0個[None]，index總共有0~4\n",
    "        #所以假設self.data是個櫃子，index是第幾層抽屜，抽屜與抽屜間沒有任何關係\n",
    "        \n",
    "    def convert(self,key):\n",
    "        \n",
    "        code = MD5.new()\n",
    "        code.update(key.encode(\"utf-8\"))\n",
    "        code.hexdigest()\n",
    "        int(code.hexdigest(),16)       #將轉換成MD5的散列換算成16進位的整數（int）\n",
    "        return int(code.hexdigest(),16)\n",
    "        \n",
    "    def add(self, key):\n",
    "        \"\"\"\n",
    "        :type key: str\n",
    "        :rtype: None\n",
    "        \"\"\"\n",
    "        count = self.convert(key)       #先將key（str）轉換成整數\n",
    "        index = count % self.capacity   #決定要將key放在哪個index(第幾層抽屜)上，取餘數\n",
    "        \n",
    "        if self.data[index] is None:\n",
    "            self.data[index] = ListNode(count) #假設這個抽屜裡沒有東西，就將key -> 整數，放進對應的抽屜\n",
    "            \n",
    "        else:    #那如果今天抽屜裡已經有東西了，此狀況稱為collision(碰撞)，我的方法是讓他成為抽屜裡原本已存在的最後一位\n",
    "            \n",
    "            head = self.data[index]  #設self.data[index]為頭\n",
    "            \n",
    "            while head.next is not None: #如果head下一位是還有節點的，設下一位為head，直到走訪到head沒有指向為止\n",
    "                head = head.next\n",
    "                \n",
    "            head.next = ListNode(count) #放在抽屜的最後一個位置\n",
    "\n",
    "\n",
    "    def remove(self, key):\n",
    "        \"\"\"\n",
    "        :type key: str\n",
    "        :rtype: None\n",
    "        \"\"\"      \n",
    "        count = self.convert(key) #先將key轉換\n",
    "        \n",
    "        if self.contains(key): #如果key有存在這個table裡的話，move on \n",
    "            \n",
    "            index = count % self.capacity \n",
    "            \n",
    "            if self.data[index].val == count:    #如果那個抽屜的值==要找的key(此時已轉換為count)\n",
    "                self.data[index]= self.data[index].next   \n",
    "                \n",
    "                #那麼這個抽屜中第一個節點將被下一個節點取代，如果抽屜只有一個val，代表self.data.next = None\n",
    "                #移除self.data[index]後，self.data[index].next = None將會取代self.data[index]\n",
    "            \n",
    "            else: #如果self.data[index]不是要找的key的話，走訪這個抽屜內的其他node\n",
    "                head = self.data[index]    #設抽屜中第一個為head\n",
    "                while head.next != count:  #當head的下一位不是要找的key，move on \n",
    "                    head = head.next       #讓head指向下一位的節點成為新的head，直到找到head.next == count\n",
    "                head.next = head.next.next #因為要移除head.next，所以head.next.next將會成為新的head.next\n",
    "                     \n",
    "        if self.contains(key):\n",
    "            self.remove(key)   #如果抽屜裡有兩個相同的值要一起移除\n",
    "        return \n",
    "                \n",
    "    def contains(self, key):\n",
    "        \"\"\"\n",
    "        :type key: str\n",
    "        :rtype: bool(True or False)\n",
    "        \"\"\"\n",
    "        count = self.convert(key)\n",
    "        index = count % self.capacity\n",
    "        \n",
    "        if self.data[index] is None:     #如果self.data[index] = None，代表這個抽屜沒有東西，回傳False\n",
    "            return False\n",
    "        else:  #若是要找的key的抽屜有東西的話，要找，因為不一定self.data[index]就是要找的key\n",
    "            head = self.data[index]     \n",
    "            while head is not None and head.val != count: #當head不是None且head.val不是key時，head.next成為新的head\n",
    "                head = head.next\n",
    "            if head:        \n",
    "                return True\n",
    "            else:\n",
    "                return False\n",
    "            #如果head存在（代表head.val == count，或是while的條件不成立，代表著self.data[index].val == count)，return True，不存在則False"
   ]
  },
  {
   "cell_type": "code",
   "execution_count": 6,
   "metadata": {},
   "outputs": [
    {
     "name": "stdout",
     "output_type": "stream",
     "text": [
      "True\n",
      "True\n",
      "False\n",
      "True\n"
     ]
    }
   ],
   "source": [
    "hashSet = MyHashSet()\n",
    "hashSet.add(\"dog\")\n",
    "hashSet.add(\"pig\")\n",
    "rel = hashSet.contains(\"pig\")\n",
    "print(rel)\n",
    "rel = hashSet.contains(\"dog\")\n",
    "print(rel)\n",
    "rel = hashSet.contains(\"cat\")\n",
    "print(rel)\n",
    "hashSet.add(\"bird\")\n",
    "rel = hashSet.contains(\"bird\")\n",
    "print(rel)"
   ]
  },
  {
   "cell_type": "code",
   "execution_count": 7,
   "metadata": {},
   "outputs": [],
   "source": [
    "hashSet.remove(\"pig\")"
   ]
  },
  {
   "cell_type": "code",
   "execution_count": 8,
   "metadata": {},
   "outputs": [
    {
     "data": {
      "text/plain": [
       "False"
      ]
     },
     "execution_count": 8,
     "metadata": {},
     "output_type": "execute_result"
    }
   ],
   "source": [
    "hashSet.contains(\"pig\")"
   ]
  },
  {
   "cell_type": "code",
   "execution_count": 9,
   "metadata": {},
   "outputs": [],
   "source": [
    "hashSet.add(\"dog\")"
   ]
  },
  {
   "cell_type": "code",
   "execution_count": 10,
   "metadata": {},
   "outputs": [],
   "source": [
    "hashSet.remove(\"dog\")"
   ]
  },
  {
   "cell_type": "code",
   "execution_count": 11,
   "metadata": {},
   "outputs": [
    {
     "data": {
      "text/plain": [
       "False"
      ]
     },
     "execution_count": 11,
     "metadata": {},
     "output_type": "execute_result"
    }
   ],
   "source": [
    "hashSet.contains(\"dog\")"
   ]
  },
  {
   "cell_type": "markdown",
   "metadata": {},
   "source": [
    "### Hash Table流程圖\n",
    "![](https://i.imgur.com/9LuIYDm.png)"
   ]
  },
  {
   "cell_type": "code",
   "execution_count": 12,
   "metadata": {},
   "outputs": [],
   "source": [
    "from Crypto.Hash import MD5\n",
    "\n",
    "class ListNode:\n",
    "    \n",
    "    def __init__(self,val):\n",
    "        \n",
    "        self.val = val\n",
    "        self.next = None\n",
    "       \n",
    "    \n",
    "class MyHashSet:\n",
    "    \n",
    "    def __init__(self, capacity=5):\n",
    "        \"\"\"\n",
    "        :type capacity: int\n",
    "        :rtype: None\n",
    "        \"\"\"\n",
    "        self.capacity = capacity\n",
    "        self.data = [None] * capacity\n",
    "        \n",
    "    def convert(self,key):\n",
    "        \n",
    "        code = MD5.new()\n",
    "        code.update(key.encode(\"utf-8\"))\n",
    "        code.hexdigest()\n",
    "        int(code.hexdigest(),16)\n",
    "        return int(code.hexdigest(),16)\n",
    "        \n",
    "    def add(self, key):\n",
    "        \"\"\"\n",
    "        :type key: str\n",
    "        :rtype: None\n",
    "        \"\"\"\n",
    "        count = self.convert(key)\n",
    "        index = count % self.capacity\n",
    "        \n",
    "        node = ListNode(key)\n",
    "        \n",
    "        if self.data[index] is None:\n",
    "            self.data[index] = node\n",
    "            \n",
    "        else:\n",
    "            \n",
    "            head = self.data[index]\n",
    "            \n",
    "            while head.next is not None:\n",
    "                head = head.next\n",
    "                \n",
    "            head.next = node\n",
    "\n",
    "\n",
    "    def remove(self, key):\n",
    "        \"\"\"\n",
    "        :type key: str\n",
    "        :rtype: None\n",
    "        \"\"\"\n",
    "        count = self.convert(key)\n",
    "        \n",
    "        if self.contains(key):\n",
    "            index = count % self.capacity\n",
    "            \n",
    "            if self.data[index] and self.data[index].val == count:\n",
    "                self.data[index] = self.data[index].next\n",
    "            #self.data[index]為要移除的key，所以當self.data[index] == count的時候，將下一位直接往前一位\n",
    "                \n",
    "            pre = None     #使用previous的方式，先設pre為None\n",
    "            while self.data[index]: #當self.data[index] == True，move on \n",
    "                if self.data[index].val == count:  #如果找到了要移除的key，那麼self.data[index].next會變成pre.next\n",
    "                    pre.next = self.data[index].next\n",
    "                    return\n",
    "                pre = self.data[index]  #如果第一圈找self.data[index]沒找到，那麼會將self.data[index]變成pre\n",
    "                self.data[index] = self.data[index].next #而self.data[index].next會變成self.data[index]\n",
    "                           \n",
    "    def contains(self, key):\n",
    "        \"\"\"\n",
    "        :type key: str\n",
    "        :rtype: bool(True or False)\n",
    "        \"\"\"\n",
    "        count = self.convert(key)\n",
    "        index = count % self.capacity\n",
    "        \n",
    "        if self.data[index] is None:\n",
    "            return False\n",
    "        else:\n",
    "            head = self.data[index]\n",
    "            while head is not None and head.val != key:\n",
    "                head = head.next\n",
    "            if head:\n",
    "                return True\n",
    "            else:\n",
    "                return False    "
   ]
  },
  {
   "cell_type": "code",
   "execution_count": 13,
   "metadata": {},
   "outputs": [
    {
     "name": "stdout",
     "output_type": "stream",
     "text": [
      "True\n",
      "False\n",
      "False\n",
      "False\n"
     ]
    }
   ],
   "source": [
    "a = MyHashSet()\n",
    "a.add(\"animal\")\n",
    "a.add(\"ocean\")\n",
    "a.add(\"pig\")\n",
    "a.add(\"duck\")\n",
    "a.add(\"dog\")\n",
    "a.add(\"tiger\")\n",
    "print(a.contains(\"animal\"))\n",
    "a.remove(\"duck\")\n",
    "print(a.contains(\"duck\"))\n",
    "a.remove(\"pig\")\n",
    "print(a.contains(\"pig\"))\n",
    "a.remove(\"tiger\")\n",
    "print(a.contains(\"tiger\"))"
   ]
  }
 ],
 "metadata": {
  "kernelspec": {
   "display_name": "Python 3",
   "language": "python",
   "name": "python3"
  },
  "language_info": {
   "codemirror_mode": {
    "name": "ipython",
    "version": 3
   },
   "file_extension": ".py",
   "mimetype": "text/x-python",
   "name": "python",
   "nbconvert_exporter": "python",
   "pygments_lexer": "ipython3",
   "version": "3.6.9"
  }
 },
 "nbformat": 4,
 "nbformat_minor": 2
}
