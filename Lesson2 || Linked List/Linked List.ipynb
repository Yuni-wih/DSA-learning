{
 "cells": [
  {
   "cell_type": "code",
   "execution_count": 23,
   "metadata": {},
   "outputs": [
    {
     "name": "stdout",
     "output_type": "stream",
     "text": [
      "<__main__.Node object at 0x10b16ada0>\n",
      "<__main__.Node object at 0x10b16ada0>\n"
     ]
    }
   ],
   "source": [
    "class Node(object):\n",
    "    \n",
    "    def __init__(self,val):\n",
    "        \n",
    "        self.val = val\n",
    "        self.next = None\n",
    "\n",
    "    def printNode(self):\n",
    "        \n",
    "        if self.next:\n",
    "            return [self.val] + self.next.printNode()\n",
    "        \n",
    "        else:\n",
    "            return [self.val]\n",
    "\n",
    "node1 = Node(12) \n",
    "node2 = Node(99) \n",
    "node3 = Node(37) \n",
    "node1.next = node2\n",
    "node2.next = node3\n",
    "\n",
    "print(node2)\n",
    "print(node1.next)"
   ]
  },
  {
   "cell_type": "code",
   "execution_count": 28,
   "metadata": {},
   "outputs": [],
   "source": [
    "class MyLinkedlist():\n",
    "    \n",
    "    def __init__(self):\n",
    "        \n",
    "        self.head = None\n",
    "        self.size = 0\n",
    "        \n",
    "    def get(self, index:int):\n",
    "    \n",
    "        if index >= self.size or not self.head or self.size < 0 :\n",
    "            return -1\n",
    "        \n",
    "        node = self.head\n",
    "        while index > 0:\n",
    "            node = node.next\n",
    "            index -= 1\n",
    "        return node.val\n",
    "    \n",
    "    def addHead(self, val:int):\n",
    "        \n",
    "        newHead = Node(val)\n",
    "        \n",
    "        if self.head is None:\n",
    "            self.head = newHead\n",
    "            \n",
    "        else:\n",
    "            newHead.next = self.head\n",
    "            self.head = newHead\n",
    "            \n",
    "        self.size += 1\n",
    "        \n",
    "        return self.size, self.head.printNode()\n",
    "                        \n",
    "    def addTail(self, val:int):\n",
    "        \n",
    "        newTail = Node(val)\n",
    "        node = self.head\n",
    "        \n",
    "        if self.head is None:\n",
    "            self.head = newTail\n",
    "\n",
    "        else:\n",
    "            while node.next:\n",
    "                node = node.next\n",
    "            node.next = newTail\n",
    "            self.size += 1\n",
    "        \n",
    "        return self.size, self.head.printNode()\n",
    "    \n",
    "    def addIndex(self, index:int, val:int):\n",
    "        \n",
    "        newIndex = Node(val)\n",
    "        \n",
    "        if index < 0 or index > self.size:\n",
    "            return\n",
    "         \n",
    "        elif index == 0:\n",
    "            self.addHead(val)\n",
    "            \n",
    "        elif index == self.size:\n",
    "            self.addTail(val)\n",
    "            \n",
    "        elif 0 < index < self.size:\n",
    "            node = self.head\n",
    "            while index>1:\n",
    "                node = node.next\n",
    "                index -= 1    \n",
    "            newIndex.next = node.next\n",
    "            node.next = newIndex\n",
    "            self.size += 1\n",
    "        return self.size, self.head.printNode()   "
   ]
  },
  {
   "cell_type": "code",
   "execution_count": 30,
   "metadata": {},
   "outputs": [
    {
     "data": {
      "text/plain": [
       "(1, [3])"
      ]
     },
     "execution_count": 30,
     "metadata": {},
     "output_type": "execute_result"
    }
   ],
   "source": [
    "a = MyLinkedlist()\n",
    "a.addHead(3)"
   ]
  },
  {
   "cell_type": "code",
   "execution_count": 31,
   "metadata": {},
   "outputs": [
    {
     "data": {
      "text/plain": [
       "3"
      ]
     },
     "execution_count": 31,
     "metadata": {},
     "output_type": "execute_result"
    }
   ],
   "source": [
    "a.get(0)"
   ]
  },
  {
   "cell_type": "code",
   "execution_count": 32,
   "metadata": {},
   "outputs": [
    {
     "data": {
      "text/plain": [
       "(2, [3, 6])"
      ]
     },
     "execution_count": 32,
     "metadata": {},
     "output_type": "execute_result"
    }
   ],
   "source": [
    "a.addTail(6)"
   ]
  },
  {
   "cell_type": "code",
   "execution_count": 33,
   "metadata": {},
   "outputs": [
    {
     "data": {
      "text/plain": [
       "(3, [4, 3, 6])"
      ]
     },
     "execution_count": 33,
     "metadata": {},
     "output_type": "execute_result"
    }
   ],
   "source": [
    "a.addIndex(0,4)"
   ]
  },
  {
   "cell_type": "code",
   "execution_count": 34,
   "metadata": {},
   "outputs": [
    {
     "data": {
      "text/plain": [
       "(4, [4, 3, 6, 7])"
      ]
     },
     "execution_count": 34,
     "metadata": {},
     "output_type": "execute_result"
    }
   ],
   "source": [
    "a.addIndex(3,7)"
   ]
  }
 ],
 "metadata": {
  "kernelspec": {
   "display_name": "Python 3",
   "language": "python",
   "name": "python3"
  },
  "language_info": {
   "codemirror_mode": {
    "name": "ipython",
    "version": 3
   },
   "file_extension": ".py",
   "mimetype": "text/x-python",
   "name": "python",
   "nbconvert_exporter": "python",
   "pygments_lexer": "ipython3",
   "version": "3.6.9"
  }
 },
 "nbformat": 4,
 "nbformat_minor": 2
}
