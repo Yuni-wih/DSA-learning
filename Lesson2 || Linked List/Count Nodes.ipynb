{
 "cells": [
  {
   "cell_type": "markdown",
   "metadata": {},
   "source": [
    "## 數list裡的node有幾個\n",
    "\n",
    "### 設一個空的vals[ ]，利用append將node放進去，最後去數vals[ ] 裡有幾個數"
   ]
  },
  {
   "cell_type": "code",
   "execution_count": 1,
   "metadata": {},
   "outputs": [],
   "source": [
    "class Node(object):\n",
    "    \n",
    "    def __init__(self,val):\n",
    "        \n",
    "        self.val = val\n",
    "        self.next = None \n",
    "\n",
    "def count_nodes(node):\n",
    "        \n",
    "    vals=[]\n",
    "    while node is not None:\n",
    "        \n",
    "        vals.append(node.val)\n",
    "        node = node.next\n",
    "            \n",
    "    count = 0\n",
    "        \n",
    "    for i in vals:\n",
    "        count+=1\n",
    "    return count"
   ]
  },
  {
   "cell_type": "code",
   "execution_count": 2,
   "metadata": {},
   "outputs": [],
   "source": [
    "node1 = Node(3)\n",
    "node2 = Node(4)\n",
    "node3 = Node(2)\n",
    "node4 = Node(1)\n",
    "node5 = Node(6)\n",
    "\n",
    "node1.next = node2\n",
    "node1.next.next = node3\n",
    "node3.next = node4\n",
    "node4.next = node5\n",
    "node5.next = None"
   ]
  },
  {
   "cell_type": "code",
   "execution_count": 3,
   "metadata": {},
   "outputs": [
    {
     "name": "stdout",
     "output_type": "stream",
     "text": [
      "5\n"
     ]
    }
   ],
   "source": [
    "print(count_nodes(node1))"
   ]
  }
 ],
 "metadata": {
  "kernelspec": {
   "display_name": "Python 3",
   "language": "python",
   "name": "python3"
  },
  "language_info": {
   "codemirror_mode": {
    "name": "ipython",
    "version": 3
   },
   "file_extension": ".py",
   "mimetype": "text/x-python",
   "name": "python",
   "nbconvert_exporter": "python",
   "pygments_lexer": "ipython3",
   "version": "3.6.9"
  }
 },
 "nbformat": 4,
 "nbformat_minor": 2
}
