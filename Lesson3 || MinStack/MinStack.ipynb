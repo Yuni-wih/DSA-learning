{
 "cells": [
  {
   "cell_type": "markdown",
   "metadata": {},
   "source": [
    "# MinStack\n",
    "\n",
    "* `stack`就像是一個容器一樣\n",
    "* 將`stack`中最小的取出 = 將最小值永遠放在棧`stack`頂\n",
    "\n",
    "> Reference  \n",
    ">🔗[Stack: 能夠在O(1)取得最小值的MinStack](https://alrightchiu.github.io/SecondRound/stack-neng-gou-zai-o1qu-de-zui-xiao-zhi-de-minstack.html)"
   ]
  },
  {
   "cell_type": "code",
   "execution_count": 10,
   "metadata": {},
   "outputs": [],
   "source": [
    "class Node:\n",
    "\n",
    "    def __init__(self, val, nextNode=None):\n",
    "        \"\"\"\n",
    "        initialize your data structure here.\n",
    "        \"\"\"\n",
    "        self.val = val #val是一個值\n",
    "        self.temp_min = val #暫時最小值\n",
    "        self.next = nextNode #下一個值"
   ]
  },
  {
   "cell_type": "code",
   "execution_count": 11,
   "metadata": {},
   "outputs": [],
   "source": [
    "class MinStack:\n",
    "    \n",
    "    def __init__(self):\n",
    "        \n",
    "        self.topNode = None #容器中沒有數值的存在\n",
    "\n",
    "    def push(self, x: int) -> None:\n",
    "        \n",
    "        if self.topNode is None:\n",
    "            self.topNode = Node(x, None) #如果沒有第一個值的話，加進一個Node\n",
    "        else:\n",
    "            temp = self.topNode.temp_min  #最上面的最小值成為temp\n",
    "            self.topNode = Node(x, self.topNode) #加進一個Node成為最上面的數值\n",
    "            if temp < self.topNode.val:\n",
    "                self.topNode.temp_min = temp    #如果加進來的數值沒有比原來的最小值小，那麼最小值依舊是temp\n",
    "\n",
    "            \n",
    "    def pop(self) -> None:\n",
    "        \n",
    "        self.topNode = self.topNode.next  #pop掉最上面的那一個數字，那麼原本topnode的下一個節點將成為新的頂點\n",
    "\n",
    "\n",
    "    def top(self) -> int:\n",
    "        \n",
    "        return self.topNode.val  #回傳頂點的值\n",
    "        \n",
    "\n",
    "    def getMin(self) -> int:\n",
    "        \n",
    "        return self.topNode.temp_min"
   ]
  },
  {
   "cell_type": "code",
   "execution_count": 19,
   "metadata": {},
   "outputs": [],
   "source": [
    "obj = MinStack()\n",
    "obj.push(-2);\n",
    "obj.push(0);\n",
    "obj.push(-3);\n",
    "obj.pop()\n",
    "param_3 = obj.top()\n",
    "param_4 = obj.getMin()"
   ]
  },
  {
   "cell_type": "code",
   "execution_count": 22,
   "metadata": {},
   "outputs": [
    {
     "data": {
      "text/plain": [
       "0"
      ]
     },
     "execution_count": 22,
     "metadata": {},
     "output_type": "execute_result"
    }
   ],
   "source": [
    "param_3"
   ]
  },
  {
   "cell_type": "code",
   "execution_count": 23,
   "metadata": {},
   "outputs": [
    {
     "data": {
      "text/plain": [
       "-2"
      ]
     },
     "execution_count": 23,
     "metadata": {},
     "output_type": "execute_result"
    }
   ],
   "source": [
    "param_4"
   ]
  },
  {
   "cell_type": "markdown",
   "metadata": {},
   "source": [
    "![](https://i.imgur.com/xqCh9yn.png)"
   ]
  }
 ],
 "metadata": {
  "kernelspec": {
   "display_name": "Python 3",
   "language": "python",
   "name": "python3"
  },
  "language_info": {
   "codemirror_mode": {
    "name": "ipython",
    "version": 3
   },
   "file_extension": ".py",
   "mimetype": "text/x-python",
   "name": "python",
   "nbconvert_exporter": "python",
   "pygments_lexer": "ipython3",
   "version": "3.6.9"
  }
 },
 "nbformat": 4,
 "nbformat_minor": 2
}
